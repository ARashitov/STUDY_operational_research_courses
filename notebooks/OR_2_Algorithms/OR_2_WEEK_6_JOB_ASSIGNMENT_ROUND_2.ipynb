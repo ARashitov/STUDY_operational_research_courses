{
 "cells": [
  {
   "cell_type": "markdown",
   "id": "secondary-engagement",
   "metadata": {},
   "source": [
    "# About\n",
    "* **Author**: Adil Rashitov\n",
    "* **Created at**: 07.08.2021\n",
    "* **Goal**: Solve final assignment\n",
    "\n",
    "![pictures](pictures/FINAL_TASK_1.png)\n",
    "![Formulation](pictures/OR_2_FINAL.drawio.png)"
   ]
  },
  {
   "cell_type": "code",
   "execution_count": 1,
   "id": "material-freedom",
   "metadata": {
    "code_folding": [
     0
    ]
   },
   "outputs": [
    {
     "data": {
      "text/html": [
       "<style>.container { width:100% !important; }</style>"
      ],
      "text/plain": [
       "<IPython.core.display.HTML object>"
      ]
     },
     "metadata": {},
     "output_type": "display_data"
    }
   ],
   "source": [
    "# Imports / Configs / Global vars\n",
    "\n",
    "# Import of native python tools\n",
    "import os\n",
    "import json\n",
    "from functools import reduce\n",
    "\n",
    "# Import of base ML stack libs\n",
    "import numpy as np\n",
    "import sklearn as sc\n",
    "\n",
    "# Multiprocessing for Mac / Linux\n",
    "import platform\n",
    "platform.system()\n",
    "if platform.system() == 'Darwin':\n",
    "    from multiprocess import Pool\n",
    "else:\n",
    "    from multiprocessing import Pool\n",
    "\n",
    "# Visualization libraries\n",
    "import plotly.express as px\n",
    "\n",
    "# Logging configuraiton\n",
    "import logging\n",
    "logging.basicConfig(format='[ %(asctime)s ][ %(levelname)s ]: %(message)s', datefmt='%m/%d/%Y %I:%M:%S %p')\n",
    "logger = logging.getLogger()\n",
    "logger.setLevel(logging.INFO)\n",
    "\n",
    "# Ipython configs\n",
    "from IPython.core.display import display, HTML\n",
    "from IPython.core.interactiveshell import InteractiveShell\n",
    "display(HTML(\"<style>.container { width:100% !important; }</style>\"))\n",
    "InteractiveShell.ast_node_interactivity = 'all'\n",
    "\n",
    "# Pandas configs\n",
    "import pandas as pd\n",
    "import geopandas as gpd\n",
    "pd.options.display.max_rows = 350\n",
    "pd.options.display.max_columns = 250\n",
    "\n",
    "# Jupyter configs\n",
    "%load_ext autoreload\n",
    "%autoreload 2\n",
    "%config Completer.use_jedi = False\n",
    "\n",
    "from ortools.linear_solver import pywraplp"
   ]
  },
  {
   "cell_type": "markdown",
   "id": "13a8d485",
   "metadata": {},
   "source": [
    "# Data"
   ]
  },
  {
   "cell_type": "code",
   "execution_count": 2,
   "id": "f51f864d",
   "metadata": {
    "code_folding": [
     0
    ]
   },
   "outputs": [],
   "source": [
    "# Data reading & prepatre\n",
    "def prepare_data():\n",
    "\n",
    "    DATA = \"\"\"\n",
    "    1\t7\tNone\n",
    "    2\t4\t5, 8\n",
    "    3\t6\tNone\n",
    "    4\t9\tNone\n",
    "    5\t12\t2, 8\n",
    "    6\t8\t9\n",
    "    7\t10\t10\n",
    "    8\t11\t2, 5\n",
    "    9\t8\t6\n",
    "    10\t7\t7\n",
    "    11\t6\t15\n",
    "    12\t8\tNone\n",
    "    13\t15\tNone\n",
    "    14\t14\tNone\n",
    "    15\t3\t11\n",
    "    \"\"\"\n",
    "\n",
    "\n",
    "    DATA = DATA.split('\\n')[1:-1]\n",
    "    DATA = list(map(lambda x: x.split('\\t'), DATA))\n",
    "    data = pd.DataFrame(DATA, columns=['Job', 'Processing time', 'Conflicting jobs'])\n",
    "    return data\n",
    "\n",
    "df = prepare_data()"
   ]
  },
  {
   "cell_type": "code",
   "execution_count": 3,
   "id": "9ffdb706",
   "metadata": {},
   "outputs": [],
   "source": [
    "N_MACHINES = 3"
   ]
  },
  {
   "cell_type": "markdown",
   "id": "029f9189",
   "metadata": {},
   "source": [
    "# Main\n"
   ]
  },
  {
   "cell_type": "markdown",
   "id": "77686fcc",
   "metadata": {},
   "source": [
    "## 1. Inputs prepare"
   ]
  },
  {
   "cell_type": "code",
   "execution_count": 4,
   "id": "42a6eddf",
   "metadata": {},
   "outputs": [
    {
     "data": {
      "text/plain": [
       "array([ 7,  4,  6,  9, 12,  8, 10, 11,  8,  7,  6,  8, 15, 14,  3])"
      ]
     },
     "execution_count": 4,
     "metadata": {},
     "output_type": "execute_result"
    }
   ],
   "source": [
    "jobs_vec = np.array(df['Processing time'].astype(int))\n"
   ]
  },
  {
   "cell_type": "code",
   "execution_count": 10,
   "id": "a553e019",
   "metadata": {},
   "outputs": [
    {
     "ename": "TypeError",
     "evalue": "NotSupported: model.GetOrMakeIndex((((((((((((((((7 * x_0_0) + (4 * x_1_0)) + (6 * x_2_0)) + (9 * x_3_0)) + (12 * x_4_0)) + (8 * x_5_0)) + (10 * x_6_0)) + (11 * x_7_0)) + (8 * x_8_0)) + (7 * x_9_0)) + (6 * x_10_0)) + (8 * x_11_0)) + (15 * x_12_0)) + (14 * x_13_0)) + (3 * x_14_0)))",
     "output_type": "error",
     "traceback": [
      "\u001b[0;31m---------------------------------------------------------------------------\u001b[0m",
      "\u001b[0;31mTypeError\u001b[0m                                 Traceback (most recent call last)",
      "\u001b[0;32m<ipython-input-10-63b532e168e6>\u001b[0m in \u001b[0;36m<module>\u001b[0;34m\u001b[0m\n\u001b[1;32m     13\u001b[0m \u001b[0;31m# 3.\u001b[0m\u001b[0;34m\u001b[0m\u001b[0;34m\u001b[0m\u001b[0;34m\u001b[0m\u001b[0m\n\u001b[1;32m     14\u001b[0m \u001b[0mmakespan\u001b[0m \u001b[0;34m=\u001b[0m \u001b[0mmodel\u001b[0m\u001b[0;34m.\u001b[0m\u001b[0mNewIntVar\u001b[0m\u001b[0;34m(\u001b[0m\u001b[0;36m0\u001b[0m\u001b[0;34m,\u001b[0m \u001b[0mint\u001b[0m\u001b[0;34m(\u001b[0m\u001b[0mjob_vec\u001b[0m\u001b[0;34m.\u001b[0m\u001b[0msum\u001b[0m\u001b[0;34m(\u001b[0m\u001b[0;34m)\u001b[0m\u001b[0;34m)\u001b[0m\u001b[0;34m,\u001b[0m \u001b[0;34m'makespan'\u001b[0m\u001b[0;34m)\u001b[0m\u001b[0;34m\u001b[0m\u001b[0;34m\u001b[0m\u001b[0m\n\u001b[0;32m---> 15\u001b[0;31m \u001b[0mmodel\u001b[0m\u001b[0;34m.\u001b[0m\u001b[0mAddMaxEquality\u001b[0m\u001b[0;34m(\u001b[0m\u001b[0mmakespan\u001b[0m\u001b[0;34m,\u001b[0m \u001b[0mlist\u001b[0m\u001b[0;34m(\u001b[0m\u001b[0mX\u001b[0m \u001b[0;34m@\u001b[0m \u001b[0mjobs_vec\u001b[0m\u001b[0;34m)\u001b[0m\u001b[0;34m)\u001b[0m\u001b[0;34m\u001b[0m\u001b[0;34m\u001b[0m\u001b[0m\n\u001b[0m\u001b[1;32m     16\u001b[0m \u001b[0;34m\u001b[0m\u001b[0m\n\u001b[1;32m     17\u001b[0m \u001b[0mmodel\u001b[0m\u001b[0;34m.\u001b[0m\u001b[0mMinimize\u001b[0m\u001b[0;34m(\u001b[0m\u001b[0mmakespan\u001b[0m\u001b[0;34m)\u001b[0m\u001b[0;34m\u001b[0m\u001b[0;34m\u001b[0m\u001b[0m\n",
      "\u001b[0;32m/usr/local/lib/python3.9/site-packages/ortools/sat/python/cp_model.py\u001b[0m in \u001b[0;36mAddMaxEquality\u001b[0;34m(self, target, variables)\u001b[0m\n\u001b[1;32m   1340\u001b[0m         \u001b[0mmodel_ct\u001b[0m \u001b[0;34m=\u001b[0m \u001b[0mself\u001b[0m\u001b[0;34m.\u001b[0m\u001b[0m__model\u001b[0m\u001b[0;34m.\u001b[0m\u001b[0mconstraints\u001b[0m\u001b[0;34m[\u001b[0m\u001b[0mct\u001b[0m\u001b[0;34m.\u001b[0m\u001b[0mIndex\u001b[0m\u001b[0;34m(\u001b[0m\u001b[0;34m)\u001b[0m\u001b[0;34m]\u001b[0m\u001b[0;34m\u001b[0m\u001b[0;34m\u001b[0m\u001b[0m\n\u001b[1;32m   1341\u001b[0m         model_ct.int_max.vars.extend(\n\u001b[0;32m-> 1342\u001b[0;31m             [self.GetOrMakeIndex(x) for x in variables])\n\u001b[0m\u001b[1;32m   1343\u001b[0m         \u001b[0mmodel_ct\u001b[0m\u001b[0;34m.\u001b[0m\u001b[0mint_max\u001b[0m\u001b[0;34m.\u001b[0m\u001b[0mtarget\u001b[0m \u001b[0;34m=\u001b[0m \u001b[0mself\u001b[0m\u001b[0;34m.\u001b[0m\u001b[0mGetOrMakeIndex\u001b[0m\u001b[0;34m(\u001b[0m\u001b[0mtarget\u001b[0m\u001b[0;34m)\u001b[0m\u001b[0;34m\u001b[0m\u001b[0;34m\u001b[0m\u001b[0m\n\u001b[1;32m   1344\u001b[0m         \u001b[0;32mreturn\u001b[0m \u001b[0mct\u001b[0m\u001b[0;34m\u001b[0m\u001b[0;34m\u001b[0m\u001b[0m\n",
      "\u001b[0;32m/usr/local/lib/python3.9/site-packages/ortools/sat/python/cp_model.py\u001b[0m in \u001b[0;36m<listcomp>\u001b[0;34m(.0)\u001b[0m\n\u001b[1;32m   1340\u001b[0m         \u001b[0mmodel_ct\u001b[0m \u001b[0;34m=\u001b[0m \u001b[0mself\u001b[0m\u001b[0;34m.\u001b[0m\u001b[0m__model\u001b[0m\u001b[0;34m.\u001b[0m\u001b[0mconstraints\u001b[0m\u001b[0;34m[\u001b[0m\u001b[0mct\u001b[0m\u001b[0;34m.\u001b[0m\u001b[0mIndex\u001b[0m\u001b[0;34m(\u001b[0m\u001b[0;34m)\u001b[0m\u001b[0;34m]\u001b[0m\u001b[0;34m\u001b[0m\u001b[0;34m\u001b[0m\u001b[0m\n\u001b[1;32m   1341\u001b[0m         model_ct.int_max.vars.extend(\n\u001b[0;32m-> 1342\u001b[0;31m             [self.GetOrMakeIndex(x) for x in variables])\n\u001b[0m\u001b[1;32m   1343\u001b[0m         \u001b[0mmodel_ct\u001b[0m\u001b[0;34m.\u001b[0m\u001b[0mint_max\u001b[0m\u001b[0;34m.\u001b[0m\u001b[0mtarget\u001b[0m \u001b[0;34m=\u001b[0m \u001b[0mself\u001b[0m\u001b[0;34m.\u001b[0m\u001b[0mGetOrMakeIndex\u001b[0m\u001b[0;34m(\u001b[0m\u001b[0mtarget\u001b[0m\u001b[0;34m)\u001b[0m\u001b[0;34m\u001b[0m\u001b[0;34m\u001b[0m\u001b[0m\n\u001b[1;32m   1344\u001b[0m         \u001b[0;32mreturn\u001b[0m \u001b[0mct\u001b[0m\u001b[0;34m\u001b[0m\u001b[0;34m\u001b[0m\u001b[0m\n",
      "\u001b[0;32m/usr/local/lib/python3.9/site-packages/ortools/sat/python/cp_model.py\u001b[0m in \u001b[0;36mGetOrMakeIndex\u001b[0;34m(self, arg)\u001b[0m\n\u001b[1;32m   1581\u001b[0m             \u001b[0;32mreturn\u001b[0m \u001b[0mself\u001b[0m\u001b[0;34m.\u001b[0m\u001b[0mGetOrMakeIndexFromConstant\u001b[0m\u001b[0;34m(\u001b[0m\u001b[0marg\u001b[0m\u001b[0;34m)\u001b[0m\u001b[0;34m\u001b[0m\u001b[0;34m\u001b[0m\u001b[0m\n\u001b[1;32m   1582\u001b[0m         \u001b[0;32melse\u001b[0m\u001b[0;34m:\u001b[0m\u001b[0;34m\u001b[0m\u001b[0;34m\u001b[0m\u001b[0m\n\u001b[0;32m-> 1583\u001b[0;31m             raise TypeError('NotSupported: model.GetOrMakeIndex(' + str(arg) +\n\u001b[0m\u001b[1;32m   1584\u001b[0m                             ')')\n\u001b[1;32m   1585\u001b[0m \u001b[0;34m\u001b[0m\u001b[0m\n",
      "\u001b[0;31mTypeError\u001b[0m: NotSupported: model.GetOrMakeIndex((((((((((((((((7 * x_0_0) + (4 * x_1_0)) + (6 * x_2_0)) + (9 * x_3_0)) + (12 * x_4_0)) + (8 * x_5_0)) + (10 * x_6_0)) + (11 * x_7_0)) + (8 * x_8_0)) + (7 * x_9_0)) + (6 * x_10_0)) + (8 * x_11_0)) + (15 * x_12_0)) + (14 * x_13_0)) + (3 * x_14_0)))"
     ]
    }
   ],
   "source": [
    "from ortools.sat.python import cp_model\n",
    "model = cp_model.CpModel()\n",
    "\n",
    "\n",
    "# 1. Data definition\n",
    "jobs_vec = np.array([ 7,  4,  6,  9, 12,  8, 10, 11,  8,  7,  6,  8, 15, 14,  3])\n",
    "N_JOBS = jobs_vec.shape[0]\n",
    "N_MACHINES = 3\n",
    "\n",
    "# 2. Decision matrix definition\n",
    "X = [ [model.NewBoolVar(f\"x_{i}_{j}\") for i in range(N_JOBS)] for j in range(N_MACHINES)] \n",
    "\n",
    "# 3. \n",
    "makespan = model.NewIntVar(0, int(job_vec.sum()), 'makespan')\n",
    "model.AddMaxEquality(makespan, list(X @ jobs_vec))\n",
    "\n",
    "model.Minimize(makespan)"
   ]
  },
  {
   "cell_type": "markdown",
   "id": "7ca01143",
   "metadata": {},
   "source": [
    "## 2. Objective funciton\n",
    "\n",
    "Approaches:\n",
    "1. Assignment of constrain output `AddMaxEquality` to `obj_value` -> optimization `obj_value`\n",
    "2. Direct specification of objective function"
   ]
  },
  {
   "cell_type": "code",
   "execution_count": 6,
   "id": "bfce0364",
   "metadata": {},
   "outputs": [
    {
     "ename": "TypeError",
     "evalue": "NotSupported: model.GetOrMakeIndex((((((((((((((((7 * x_0_0) + (4 * x_1_0)) + (6 * x_2_0)) + (9 * x_3_0)) + (12 * x_4_0)) + (8 * x_5_0)) + (10 * x_6_0)) + (11 * x_7_0)) + (8 * x_8_0)) + (7 * x_9_0)) + (6 * x_10_0)) + (8 * x_11_0)) + (15 * x_12_0)) + (14 * x_13_0)) + (3 * x_14_0)))",
     "output_type": "error",
     "traceback": [
      "\u001b[0;31m---------------------------------------------------------------------------\u001b[0m",
      "\u001b[0;31mTypeError\u001b[0m                                 Traceback (most recent call last)",
      "\u001b[0;32m<ipython-input-6-84420a73f69f>\u001b[0m in \u001b[0;36m<module>\u001b[0;34m\u001b[0m\n\u001b[1;32m      1\u001b[0m \u001b[0mobj_value\u001b[0m \u001b[0;34m=\u001b[0m \u001b[0mmodel\u001b[0m\u001b[0;34m.\u001b[0m\u001b[0mNewIntVar\u001b[0m\u001b[0;34m(\u001b[0m\u001b[0;36m0\u001b[0m\u001b[0;34m,\u001b[0m \u001b[0mint\u001b[0m\u001b[0;34m(\u001b[0m\u001b[0mjob_vec\u001b[0m\u001b[0;34m.\u001b[0m\u001b[0msum\u001b[0m\u001b[0;34m(\u001b[0m\u001b[0;34m)\u001b[0m\u001b[0;34m)\u001b[0m\u001b[0;34m,\u001b[0m \u001b[0;34m'makespan'\u001b[0m\u001b[0;34m)\u001b[0m\u001b[0;34m\u001b[0m\u001b[0;34m\u001b[0m\u001b[0m\n\u001b[0;32m----> 2\u001b[0;31m \u001b[0mmodel\u001b[0m\u001b[0;34m.\u001b[0m\u001b[0mAddMaxEquality\u001b[0m\u001b[0;34m(\u001b[0m\u001b[0mobj_value\u001b[0m\u001b[0;34m,\u001b[0m \u001b[0mlist\u001b[0m\u001b[0;34m(\u001b[0m\u001b[0mX\u001b[0m \u001b[0;34m@\u001b[0m \u001b[0mjobs_vec\u001b[0m\u001b[0;34m)\u001b[0m\u001b[0;34m)\u001b[0m\u001b[0;34m\u001b[0m\u001b[0;34m\u001b[0m\u001b[0m\n\u001b[0m",
      "\u001b[0;32m/usr/local/lib/python3.9/site-packages/ortools/sat/python/cp_model.py\u001b[0m in \u001b[0;36mAddMaxEquality\u001b[0;34m(self, target, variables)\u001b[0m\n\u001b[1;32m   1340\u001b[0m         \u001b[0mmodel_ct\u001b[0m \u001b[0;34m=\u001b[0m \u001b[0mself\u001b[0m\u001b[0;34m.\u001b[0m\u001b[0m__model\u001b[0m\u001b[0;34m.\u001b[0m\u001b[0mconstraints\u001b[0m\u001b[0;34m[\u001b[0m\u001b[0mct\u001b[0m\u001b[0;34m.\u001b[0m\u001b[0mIndex\u001b[0m\u001b[0;34m(\u001b[0m\u001b[0;34m)\u001b[0m\u001b[0;34m]\u001b[0m\u001b[0;34m\u001b[0m\u001b[0;34m\u001b[0m\u001b[0m\n\u001b[1;32m   1341\u001b[0m         model_ct.int_max.vars.extend(\n\u001b[0;32m-> 1342\u001b[0;31m             [self.GetOrMakeIndex(x) for x in variables])\n\u001b[0m\u001b[1;32m   1343\u001b[0m         \u001b[0mmodel_ct\u001b[0m\u001b[0;34m.\u001b[0m\u001b[0mint_max\u001b[0m\u001b[0;34m.\u001b[0m\u001b[0mtarget\u001b[0m \u001b[0;34m=\u001b[0m \u001b[0mself\u001b[0m\u001b[0;34m.\u001b[0m\u001b[0mGetOrMakeIndex\u001b[0m\u001b[0;34m(\u001b[0m\u001b[0mtarget\u001b[0m\u001b[0;34m)\u001b[0m\u001b[0;34m\u001b[0m\u001b[0;34m\u001b[0m\u001b[0m\n\u001b[1;32m   1344\u001b[0m         \u001b[0;32mreturn\u001b[0m \u001b[0mct\u001b[0m\u001b[0;34m\u001b[0m\u001b[0;34m\u001b[0m\u001b[0m\n",
      "\u001b[0;32m/usr/local/lib/python3.9/site-packages/ortools/sat/python/cp_model.py\u001b[0m in \u001b[0;36m<listcomp>\u001b[0;34m(.0)\u001b[0m\n\u001b[1;32m   1340\u001b[0m         \u001b[0mmodel_ct\u001b[0m \u001b[0;34m=\u001b[0m \u001b[0mself\u001b[0m\u001b[0;34m.\u001b[0m\u001b[0m__model\u001b[0m\u001b[0;34m.\u001b[0m\u001b[0mconstraints\u001b[0m\u001b[0;34m[\u001b[0m\u001b[0mct\u001b[0m\u001b[0;34m.\u001b[0m\u001b[0mIndex\u001b[0m\u001b[0;34m(\u001b[0m\u001b[0;34m)\u001b[0m\u001b[0;34m]\u001b[0m\u001b[0;34m\u001b[0m\u001b[0;34m\u001b[0m\u001b[0m\n\u001b[1;32m   1341\u001b[0m         model_ct.int_max.vars.extend(\n\u001b[0;32m-> 1342\u001b[0;31m             [self.GetOrMakeIndex(x) for x in variables])\n\u001b[0m\u001b[1;32m   1343\u001b[0m         \u001b[0mmodel_ct\u001b[0m\u001b[0;34m.\u001b[0m\u001b[0mint_max\u001b[0m\u001b[0;34m.\u001b[0m\u001b[0mtarget\u001b[0m \u001b[0;34m=\u001b[0m \u001b[0mself\u001b[0m\u001b[0;34m.\u001b[0m\u001b[0mGetOrMakeIndex\u001b[0m\u001b[0;34m(\u001b[0m\u001b[0mtarget\u001b[0m\u001b[0;34m)\u001b[0m\u001b[0;34m\u001b[0m\u001b[0;34m\u001b[0m\u001b[0m\n\u001b[1;32m   1344\u001b[0m         \u001b[0;32mreturn\u001b[0m \u001b[0mct\u001b[0m\u001b[0;34m\u001b[0m\u001b[0;34m\u001b[0m\u001b[0m\n",
      "\u001b[0;32m/usr/local/lib/python3.9/site-packages/ortools/sat/python/cp_model.py\u001b[0m in \u001b[0;36mGetOrMakeIndex\u001b[0;34m(self, arg)\u001b[0m\n\u001b[1;32m   1581\u001b[0m             \u001b[0;32mreturn\u001b[0m \u001b[0mself\u001b[0m\u001b[0;34m.\u001b[0m\u001b[0mGetOrMakeIndexFromConstant\u001b[0m\u001b[0;34m(\u001b[0m\u001b[0marg\u001b[0m\u001b[0;34m)\u001b[0m\u001b[0;34m\u001b[0m\u001b[0;34m\u001b[0m\u001b[0m\n\u001b[1;32m   1582\u001b[0m         \u001b[0;32melse\u001b[0m\u001b[0;34m:\u001b[0m\u001b[0;34m\u001b[0m\u001b[0;34m\u001b[0m\u001b[0m\n\u001b[0;32m-> 1583\u001b[0;31m             raise TypeError('NotSupported: model.GetOrMakeIndex(' + str(arg) +\n\u001b[0m\u001b[1;32m   1584\u001b[0m                             ')')\n\u001b[1;32m   1585\u001b[0m \u001b[0;34m\u001b[0m\u001b[0m\n",
      "\u001b[0;31mTypeError\u001b[0m: NotSupported: model.GetOrMakeIndex((((((((((((((((7 * x_0_0) + (4 * x_1_0)) + (6 * x_2_0)) + (9 * x_3_0)) + (12 * x_4_0)) + (8 * x_5_0)) + (10 * x_6_0)) + (11 * x_7_0)) + (8 * x_8_0)) + (7 * x_9_0)) + (6 * x_10_0)) + (8 * x_11_0)) + (15 * x_12_0)) + (14 * x_13_0)) + (3 * x_14_0)))"
     ]
    }
   ],
   "source": []
  },
  {
   "cell_type": "markdown",
   "id": "2885fbea",
   "metadata": {},
   "source": [
    "## 3. Constrains\n",
    "1. **Conflicting jobs constrains**: Jobs can't be processed on the same machine\n",
    "2. **Unique machine assignment**: Each job assigned at most one worker"
   ]
  },
  {
   "cell_type": "markdown",
   "id": "7074746e",
   "metadata": {},
   "source": [
    "### 1. Conflicting jobs constrains"
   ]
  },
  {
   "cell_type": "code",
   "execution_count": 23,
   "id": "8ea59ab3",
   "metadata": {
    "code_folding": [
     0
    ]
   },
   "outputs": [],
   "source": [
    "# Jobs data\n",
    "# 1. Extraction of conflicting jobs\n",
    "constrains = df.loc[df['Conflicting jobs'] != 'None', ['Job', 'Conflicting jobs']].copy(deep=True)\n",
    "constrains['Conflicting jobs'] = constrains['Conflicting jobs'].str.split(', ')\n",
    "constrains = constrains.explode('Conflicting jobs')\n",
    "constrains = constrains.replace('  ', '', regex=True)\n",
    "\n",
    "# 2. Extraction of only unique constrain pairs\n",
    "unique_conflicting_job_pairs = set(list(zip(constrains.T.min(), constrains.T.max())))\n",
    "constrains = pd.DataFrame(unique_conflicting_job_pairs).astype(int).sort_values([0, 1])\n",
    "\n"
   ]
  },
  {
   "cell_type": "markdown",
   "id": "ed6362ac",
   "metadata": {},
   "source": [
    "### 2. Unique machine assignment"
   ]
  },
  {
   "cell_type": "code",
   "execution_count": 24,
   "id": "eab0adbb",
   "metadata": {},
   "outputs": [
    {
     "data": {
      "text/plain": [
       "<ortools.sat.python.cp_model.Constraint at 0x403e0df1c0>"
      ]
     },
     "execution_count": 24,
     "metadata": {},
     "output_type": "execute_result"
    },
    {
     "data": {
      "text/plain": [
       "<ortools.sat.python.cp_model.Constraint at 0x403e0df460>"
      ]
     },
     "execution_count": 24,
     "metadata": {},
     "output_type": "execute_result"
    },
    {
     "data": {
      "text/plain": [
       "<ortools.sat.python.cp_model.Constraint at 0x403d0d3f40>"
      ]
     },
     "execution_count": 24,
     "metadata": {},
     "output_type": "execute_result"
    },
    {
     "data": {
      "text/plain": [
       "<ortools.sat.python.cp_model.Constraint at 0x4067b3bdf0>"
      ]
     },
     "execution_count": 24,
     "metadata": {},
     "output_type": "execute_result"
    },
    {
     "data": {
      "text/plain": [
       "<ortools.sat.python.cp_model.Constraint at 0x4067b35d90>"
      ]
     },
     "execution_count": 24,
     "metadata": {},
     "output_type": "execute_result"
    },
    {
     "data": {
      "text/plain": [
       "<ortools.sat.python.cp_model.Constraint at 0x4067bf49a0>"
      ]
     },
     "execution_count": 24,
     "metadata": {},
     "output_type": "execute_result"
    },
    {
     "data": {
      "text/plain": [
       "<ortools.sat.python.cp_model.Constraint at 0x403d0d3f40>"
      ]
     },
     "execution_count": 24,
     "metadata": {},
     "output_type": "execute_result"
    },
    {
     "data": {
      "text/plain": [
       "<ortools.sat.python.cp_model.Constraint at 0x4067b3bf10>"
      ]
     },
     "execution_count": 24,
     "metadata": {},
     "output_type": "execute_result"
    },
    {
     "data": {
      "text/plain": [
       "<ortools.sat.python.cp_model.Constraint at 0x4067b35e50>"
      ]
     },
     "execution_count": 24,
     "metadata": {},
     "output_type": "execute_result"
    },
    {
     "data": {
      "text/plain": [
       "<ortools.sat.python.cp_model.Constraint at 0x403e0df310>"
      ]
     },
     "execution_count": 24,
     "metadata": {},
     "output_type": "execute_result"
    },
    {
     "data": {
      "text/plain": [
       "<ortools.sat.python.cp_model.Constraint at 0x403e0dfbe0>"
      ]
     },
     "execution_count": 24,
     "metadata": {},
     "output_type": "execute_result"
    },
    {
     "data": {
      "text/plain": [
       "<ortools.sat.python.cp_model.Constraint at 0x4067b3bdf0>"
      ]
     },
     "execution_count": 24,
     "metadata": {},
     "output_type": "execute_result"
    },
    {
     "data": {
      "text/plain": [
       "<ortools.sat.python.cp_model.Constraint at 0x403e0dfb50>"
      ]
     },
     "execution_count": 24,
     "metadata": {},
     "output_type": "execute_result"
    },
    {
     "data": {
      "text/plain": [
       "<ortools.sat.python.cp_model.Constraint at 0x403e0df760>"
      ]
     },
     "execution_count": 24,
     "metadata": {},
     "output_type": "execute_result"
    },
    {
     "data": {
      "text/plain": [
       "<ortools.sat.python.cp_model.Constraint at 0x4067bf49a0>"
      ]
     },
     "execution_count": 24,
     "metadata": {},
     "output_type": "execute_result"
    }
   ],
   "source": [
    "sum_n_machines_running_job_at_time = list(map(np.sum, np.transpose(d_matrix)))\n",
    "\n",
    "\n",
    "for n_machines_running_job_at_time in sum_n_machines_running_job_at_time:\n",
    "    model.Add(n_machines_running_job_at_time <= 1)"
   ]
  },
  {
   "cell_type": "code",
   "execution_count": null,
   "id": "cca87d4d",
   "metadata": {},
   "outputs": [],
   "source": []
  },
  {
   "cell_type": "code",
   "execution_count": null,
   "id": "f0bec1dc",
   "metadata": {},
   "outputs": [],
   "source": []
  },
  {
   "cell_type": "code",
   "execution_count": null,
   "id": "02921a43",
   "metadata": {},
   "outputs": [],
   "source": [
    "### "
   ]
  }
 ],
 "metadata": {
  "kernelspec": {
   "display_name": "Python 3",
   "language": "python",
   "name": "python3"
  },
  "language_info": {
   "codemirror_mode": {
    "name": "ipython",
    "version": 3
   },
   "file_extension": ".py",
   "mimetype": "text/x-python",
   "name": "python",
   "nbconvert_exporter": "python",
   "pygments_lexer": "ipython3",
   "version": "3.9.5"
  },
  "varInspector": {
   "cols": {
    "lenName": 16,
    "lenType": 16,
    "lenVar": 40
   },
   "kernels_config": {
    "python": {
     "delete_cmd_postfix": "",
     "delete_cmd_prefix": "del ",
     "library": "var_list.py",
     "varRefreshCmd": "print(var_dic_list())"
    },
    "r": {
     "delete_cmd_postfix": ") ",
     "delete_cmd_prefix": "rm(",
     "library": "var_list.r",
     "varRefreshCmd": "cat(var_dic_list()) "
    }
   },
   "types_to_exclude": [
    "module",
    "function",
    "builtin_function_or_method",
    "instance",
    "_Feature"
   ],
   "window_display": false
  }
 },
 "nbformat": 4,
 "nbformat_minor": 5
}
