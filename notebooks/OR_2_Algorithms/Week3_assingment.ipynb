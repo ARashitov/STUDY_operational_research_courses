{
 "cells": [
  {
   "cell_type": "markdown",
   "id": "secondary-engagement",
   "metadata": {},
   "source": [
    "# About\n",
    "* **Author**: Adil Rashitov\n",
    "* **Created at**: 16.08.2021\n",
    "* **Goal**: Solve assingment for week "
   ]
  },
  {
   "cell_type": "code",
   "execution_count": 1,
   "id": "material-freedom",
   "metadata": {
    "code_folding": [
     0
    ]
   },
   "outputs": [
    {
     "data": {
      "text/html": [
       "<style>.container { width:100% !important; }</style>"
      ],
      "text/plain": [
       "<IPython.core.display.HTML object>"
      ]
     },
     "metadata": {},
     "output_type": "display_data"
    }
   ],
   "source": [
    "# Imports / Configs / Global vars\n",
    "\n",
    "# Import of native python tools\n",
    "import os\n",
    "import json\n",
    "from functools import reduce\n",
    "\n",
    "# Import of base ML stack libs\n",
    "import numpy as np\n",
    "import sklearn as sc\n",
    "\n",
    "# Multiprocessing for Mac / Linux\n",
    "import platform\n",
    "platform.system()\n",
    "if platform.system() == 'Darwin':\n",
    "    from multiprocess import Pool\n",
    "else:\n",
    "    from multiprocessing import Pool\n",
    "\n",
    "# Visualization libraries\n",
    "import plotly.express as px\n",
    "\n",
    "# Logging configuraiton\n",
    "import logging\n",
    "logging.basicConfig(format='[ %(asctime)s ][ %(levelname)s ]: %(message)s', datefmt='%m/%d/%Y %I:%M:%S %p')\n",
    "logger = logging.getLogger()\n",
    "logger.setLevel(logging.INFO)\n",
    "\n",
    "# Ipython configs\n",
    "from IPython.core.display import display, HTML\n",
    "from IPython.core.interactiveshell import InteractiveShell\n",
    "display(HTML(\"<style>.container { width:100% !important; }</style>\"))\n",
    "InteractiveShell.ast_node_interactivity = 'all'\n",
    "\n",
    "# Pandas configs\n",
    "import pandas as pd\n",
    "import geopandas as gpd\n",
    "pd.options.display.max_rows = 350\n",
    "pd.options.display.max_columns = 250\n",
    "\n",
    "# Jupyter configs\n",
    "%load_ext autoreload\n",
    "%autoreload 2\n",
    "%config Completer.use_jedi = False\n",
    "\n",
    "# GLOBAL VARS"
   ]
  },
  {
   "cell_type": "code",
   "execution_count": 2,
   "id": "fbc25583",
   "metadata": {},
   "outputs": [],
   "source": [
    "from ortools.linear_solver import pywraplp"
   ]
  },
  {
   "cell_type": "markdown",
   "id": "frozen-deployment",
   "metadata": {},
   "source": [
    "# Task 1\n",
    "\n",
    "![pictures](pictures/week_3_task_1.png)"
   ]
  },
  {
   "cell_type": "code",
   "execution_count": 3,
   "id": "049f94c6",
   "metadata": {},
   "outputs": [
    {
     "data": {
      "text/plain": [
       "True"
      ]
     },
     "execution_count": 3,
     "metadata": {},
     "output_type": "execute_result"
    },
    {
     "name": "stderr",
     "output_type": "stream",
     "text": [
      "[ 08/16/2021 05:45:01 AM ][ INFO ]: Objective values: 63.0\n",
      "[ 08/16/2021 05:45:01 AM ][ INFO ]: x1: 8.5 | x2: 7.5\n"
     ]
    }
   ],
   "source": [
    "solver = pywraplp.Solver.CreateSolver('GLOP')\n",
    "\n",
    "\n",
    "# Inputs\n",
    "x1 = solver.NumVar(0, solver.infinity(), 'x1')\n",
    "x2 = solver.NumVar(0, solver.infinity(), 'x2')\n",
    "\n",
    "# Objective\n",
    "solver.Maximize(3*x1 + 5*x2)\n",
    "\n",
    "# Constrains\n",
    "_ = solver.Add(x1+x2 <= 16)\n",
    "_ = solver.Add(x2 <= 7.5)\n",
    "\n",
    "solver.Solve() == solver.OPTIMAL\n",
    "logging.info(f\"Objective values: {solver.Objective().Value()}\")\n",
    "logging.info(f\"x1: {x1.solution_value()} | x2: {x2.solution_value()}\")"
   ]
  },
  {
   "cell_type": "markdown",
   "id": "603924bf",
   "metadata": {},
   "source": [
    "# Task 2\n",
    "\n",
    "![pictures](pictures/week_3_task_2.png)"
   ]
  },
  {
   "cell_type": "code",
   "execution_count": 4,
   "id": "f4721e90",
   "metadata": {},
   "outputs": [
    {
     "name": "stderr",
     "output_type": "stream",
     "text": [
      "[ 08/16/2021 05:45:01 AM ][ INFO ]: x1 <= 8.0 and x1 >= 9.0\n"
     ]
    }
   ],
   "source": [
    "lower_constrain = f\"x1 <= {np.floor(x1.solution_value())}\"\n",
    "upper_constrain = f\"x1 >= {np.ceil(x1.solution_value())}\"\n",
    "logging.info(f\"{lower_constrain} and {upper_constrain}\")"
   ]
  },
  {
   "cell_type": "markdown",
   "id": "d808111f",
   "metadata": {},
   "source": [
    "# Task 3\n",
    "\n",
    "![pictures](pictures/week_3_task_3.png)"
   ]
  },
  {
   "cell_type": "code",
   "execution_count": 12,
   "id": "5ef3bff0",
   "metadata": {},
   "outputs": [
    {
     "name": "stdout",
     "output_type": "stream",
     "text": [
      "Number of variables = 2\n",
      "Number of constraints = 2\n"
     ]
    },
    {
     "data": {
      "text/plain": [
       "True"
      ]
     },
     "execution_count": 12,
     "metadata": {},
     "output_type": "execute_result"
    },
    {
     "name": "stderr",
     "output_type": "stream",
     "text": [
      "[ 08/16/2021 05:57:16 AM ][ INFO ]: Objective values: 62.0\n",
      "[ 08/16/2021 05:57:16 AM ][ INFO ]: x1: 9.0 | x2: 7.0\n"
     ]
    }
   ],
   "source": [
    "solver = pywraplp.Solver.CreateSolver('SCIP')\n",
    "\n",
    "\n",
    "# Inputs\n",
    "x1 = solver.IntVar(0, solver.infinity(), 'x1')\n",
    "x2 = solver.IntVar(0, solver.infinity(), 'x2')\n",
    "\n",
    "# Objective\n",
    "solver.Maximize(3*x1 + 5*x2)\n",
    "\n",
    "# Constrains\n",
    "_ = solver.Add(x1+x2 <= 16)\n",
    "_ = solver.Add(x2 <= 7.5)\n",
    "\n",
    "print('Number of variables =', solver.NumVariables())\n",
    "print('Number of constraints =', solver.NumConstraints())\n",
    "\n",
    "solver.Solve() == solver.OPTIMAL\n",
    "logging.info(f\"Objective values: {solver.Objective().Value()}\")\n",
    "logging.info(f\"x1: {x1.solution_value()} | x2: {x2.solution_value()}\")"
   ]
  },
  {
   "cell_type": "markdown",
   "id": "5ae00e28",
   "metadata": {},
   "source": [
    "# Task 4\n",
    "\n",
    "![pictures](pictures/week_3_task_4.png)"
   ]
  },
  {
   "cell_type": "code",
   "execution_count": 14,
   "id": "67f90494",
   "metadata": {},
   "outputs": [
    {
     "data": {
      "text/plain": [
       "15.0"
      ]
     },
     "execution_count": 14,
     "metadata": {},
     "output_type": "execute_result"
    },
    {
     "data": {
      "text/plain": [
       "14.666666666666666"
      ]
     },
     "execution_count": 14,
     "metadata": {},
     "output_type": "execute_result"
    },
    {
     "data": {
      "text/plain": [
       "12.333333333333334"
      ]
     },
     "execution_count": 14,
     "metadata": {},
     "output_type": "execute_result"
    }
   ],
   "source": [
    "45/3\n",
    "44/3\n",
    "37/3"
   ]
  },
  {
   "cell_type": "code",
   "execution_count": 6,
   "id": "074de547",
   "metadata": {
    "code_folding": [
     0
    ]
   },
   "outputs": [],
   "source": [
    "# DATA PREPARE\n",
    "data = \"\"\"\n",
    "Job\tProcessing time\n",
    "1\t7\n",
    "2\t4\n",
    "3\t6\n",
    "4\t9\n",
    "5\t12\n",
    "6\t6\n",
    "7\t10\n",
    "8\t11\n",
    "9\t8\n",
    "10\t7\n",
    "11\t6\n",
    "12\t8\n",
    "13\t15\n",
    "14\t14\n",
    "15\t3\n",
    "\"\"\"\n",
    "data = data.split('\\n')\n",
    "data = list(map(lambda x: tuple(x.split('\\t')), data))\n",
    "jobs = pd.DataFrame(data[2:-1], columns=['job_id', 'time'])\n",
    "jobs['time'] = jobs['time'].astype(int)\n",
    "jobs['job_id'] = jobs['job_id'].astype(int)"
   ]
  },
  {
   "cell_type": "code",
   "execution_count": 7,
   "id": "4832bbc3",
   "metadata": {
    "code_folding": [
     17
    ]
   },
   "outputs": [
    {
     "data": {
      "text/plain": [
       "'machine_1'"
      ]
     },
     "execution_count": 7,
     "metadata": {},
     "output_type": "execute_result"
    }
   ],
   "source": [
    "jobs = jobs.sort_values(['job_id'], ascending=True)\n",
    "jobs = jobs.sort_values(['time'], ascending=False)\n",
    "\n",
    "\n",
    "machines_id = {\n",
    "    'machine_1': [],\n",
    "    'machine_2': [],\n",
    "    'machine_3': [],\n",
    "}\n",
    "\n",
    "machines_time = {\n",
    "    'machine_1': [],\n",
    "    'machine_2': [],\n",
    "    'machine_3': [],\n",
    "}\n",
    "\n",
    "\n",
    "def get_machine_with_smallest_span(machines):\n",
    "    \"\"\"\n",
    "        Performs selection of machine with smallest processing time span\n",
    "    \"\"\"\n",
    "    min_machine_id = -1\n",
    "    min_machine_span = -1\n",
    "    \n",
    "    for machine_id, time in machines.items():\n",
    "        total_span = np.sum(time)\n",
    "        \n",
    "        if min_machine_span == -1 or min_machine_span > total_span:\n",
    "            min_machine_span = total_span\n",
    "            min_machine_id = machine_id\n",
    "    \n",
    "    return min_machine_id\n",
    "\n",
    "\n",
    "get_machine_with_smallest_span(machines_time)"
   ]
  },
  {
   "cell_type": "code",
   "execution_count": 8,
   "id": "22c1cabf",
   "metadata": {},
   "outputs": [],
   "source": [
    "for job in jobs.to_dict('records'):\n",
    "    machine_id = get_machine_with_smallest_span(machines_time)\n",
    "    machines_time[machine_id].append(job['time'])\n",
    "    machines_id[machine_id].append(job['job_id'])"
   ]
  },
  {
   "cell_type": "code",
   "execution_count": 13,
   "id": "c4ea631d",
   "metadata": {},
   "outputs": [
    {
     "name": "stderr",
     "output_type": "stream",
     "text": [
      "[ 08/16/2021 05:58:40 AM ][ INFO ]: [machine_1]: 14.0\n",
      "[ 08/16/2021 05:58:40 AM ][ INFO ]: [machine_2]: 13.666666666666666\n",
      "[ 08/16/2021 05:58:40 AM ][ INFO ]: [machine_3]: 14.333333333333334\n"
     ]
    }
   ],
   "source": [
    "for machine_id, jobs in machines_time.items():\n",
    "    logging.info(f\"[{machine_id}]: {np.sum(jobs)/3}\")"
   ]
  },
  {
   "cell_type": "markdown",
   "id": "98feeb66",
   "metadata": {},
   "source": [
    "# Task 5\n",
    "![pictures](pictures/week_3_task_5.png)"
   ]
  },
  {
   "cell_type": "code",
   "execution_count": 16,
   "id": "51d32d3b",
   "metadata": {},
   "outputs": [
    {
     "data": {
      "text/plain": [
       "0.04444444446666663"
      ]
     },
     "execution_count": 16,
     "metadata": {},
     "output_type": "execute_result"
    }
   ],
   "source": [
    "(15.0 - 14.333333333)/15.0"
   ]
  },
  {
   "cell_type": "code",
   "execution_count": null,
   "id": "8d8dff1a",
   "metadata": {},
   "outputs": [],
   "source": []
  }
 ],
 "metadata": {
  "kernelspec": {
   "display_name": "Python 3",
   "language": "python",
   "name": "python3"
  },
  "language_info": {
   "codemirror_mode": {
    "name": "ipython",
    "version": 3
   },
   "file_extension": ".py",
   "mimetype": "text/x-python",
   "name": "python",
   "nbconvert_exporter": "python",
   "pygments_lexer": "ipython3",
   "version": "3.9.5"
  },
  "varInspector": {
   "cols": {
    "lenName": 16,
    "lenType": 16,
    "lenVar": 40
   },
   "kernels_config": {
    "python": {
     "delete_cmd_postfix": "",
     "delete_cmd_prefix": "del ",
     "library": "var_list.py",
     "varRefreshCmd": "print(var_dic_list())"
    },
    "r": {
     "delete_cmd_postfix": ") ",
     "delete_cmd_prefix": "rm(",
     "library": "var_list.r",
     "varRefreshCmd": "cat(var_dic_list()) "
    }
   },
   "types_to_exclude": [
    "module",
    "function",
    "builtin_function_or_method",
    "instance",
    "_Feature"
   ],
   "window_display": false
  }
 },
 "nbformat": 4,
 "nbformat_minor": 5
}
