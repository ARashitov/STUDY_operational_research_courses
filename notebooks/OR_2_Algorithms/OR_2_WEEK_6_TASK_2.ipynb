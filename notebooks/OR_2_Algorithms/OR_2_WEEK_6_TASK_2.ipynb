{
 "cells": [
  {
   "cell_type": "markdown",
   "id": "secondary-engagement",
   "metadata": {},
   "source": [
    "# About\n",
    "* **Author**: Adil Rashitov\n",
    "* **Created at**: 17.08.2021\n",
    "* **Goal**: Solve final assignment\n",
    "\n",
    "![pictures](pictures/FINAL_TASK_2.png)"
   ]
  },
  {
   "cell_type": "code",
   "execution_count": 1,
   "id": "material-freedom",
   "metadata": {
    "code_folding": [
     0
    ]
   },
   "outputs": [
    {
     "data": {
      "text/html": [
       "<style>.container { width:100% !important; }</style>"
      ],
      "text/plain": [
       "<IPython.core.display.HTML object>"
      ]
     },
     "metadata": {},
     "output_type": "display_data"
    }
   ],
   "source": [
    "# Imports / Configs / Global vars\n",
    "\n",
    "# Import of native python tools\n",
    "import os\n",
    "import json\n",
    "from functools import reduce\n",
    "\n",
    "# Import of base ML stack libs\n",
    "import numpy as np\n",
    "import sklearn as sc\n",
    "\n",
    "# Multiprocessing for Mac / Linux\n",
    "import platform\n",
    "platform.system()\n",
    "if platform.system() == 'Darwin':\n",
    "    from multiprocess import Pool\n",
    "else:\n",
    "    from multiprocessing import Pool\n",
    "\n",
    "# Visualization libraries\n",
    "import plotly.express as px\n",
    "\n",
    "# Logging configuraiton\n",
    "import logging\n",
    "logging.basicConfig(format='[ %(asctime)s ][ %(levelname)s ]: %(message)s', datefmt='%m/%d/%Y %I:%M:%S %p')\n",
    "logger = logging.getLogger()\n",
    "logger.setLevel(logging.INFO)\n",
    "\n",
    "# Ipython configs\n",
    "from IPython.core.display import display, HTML\n",
    "from IPython.core.interactiveshell import InteractiveShell\n",
    "display(HTML(\"<style>.container { width:100% !important; }</style>\"))\n",
    "InteractiveShell.ast_node_interactivity = 'all'\n",
    "\n",
    "# Pandas configs\n",
    "import pandas as pd\n",
    "import geopandas as gpd\n",
    "pd.options.display.max_rows = 350\n",
    "pd.options.display.max_columns = 250\n",
    "\n",
    "# Jupyter configs\n",
    "%load_ext autoreload\n",
    "%autoreload 2\n",
    "%config Completer.use_jedi = False\n",
    "\n",
    "from ortools.linear_solver import pywraplp"
   ]
  },
  {
   "cell_type": "markdown",
   "id": "13a8d485",
   "metadata": {},
   "source": [
    "# Data"
   ]
  },
  {
   "cell_type": "code",
   "execution_count": 2,
   "id": "f51f864d",
   "metadata": {
    "code_folding": [
     0
    ]
   },
   "outputs": [],
   "source": [
    "def prepare_distance_matrix():\n",
    "    data = \"\"\"\n",
    "        District\n",
    "        1\n",
    "        2\n",
    "        3\n",
    "        4\n",
    "        5\n",
    "        6\n",
    "        7\n",
    "        8\n",
    "        1\n",
    "        0\n",
    "        3\n",
    "        4\n",
    "        6\n",
    "        8\n",
    "        9\n",
    "        8\n",
    "        10\n",
    "        2\n",
    "        3\n",
    "        0\n",
    "        5\n",
    "        4\n",
    "        8\n",
    "        6\n",
    "        12\n",
    "        9\n",
    "        3\n",
    "        4\n",
    "        5\n",
    "        0\n",
    "        2\n",
    "        2\n",
    "        3\n",
    "        5\n",
    "        7\n",
    "        4\n",
    "        6\n",
    "        4\n",
    "        2\n",
    "        0\n",
    "        3\n",
    "        2\n",
    "        5\n",
    "        4\n",
    "        5\n",
    "        8\n",
    "        8\n",
    "        2\n",
    "        3\n",
    "        0\n",
    "        2\n",
    "        2\n",
    "        4\n",
    "        6\n",
    "        9\n",
    "        6\n",
    "        3\n",
    "        2\n",
    "        2\n",
    "        0\n",
    "        3\n",
    "        2\n",
    "        7\n",
    "        8\n",
    "        12\n",
    "        5\n",
    "        5\n",
    "        2\n",
    "        3\n",
    "        0\n",
    "        2\n",
    "        8\n",
    "        10\n",
    "        9\n",
    "        7\n",
    "        4\n",
    "        4\n",
    "        2\n",
    "        2\n",
    "        0\n",
    "    \"\"\"\n",
    "    data = pd.Series(data.split('\\n')[1:-1]).str.lstrip().str.rstrip()\n",
    "    X = np.reshape(np.array(data), (9, 9))\n",
    "    X = np.int16(X[1:, 1:])\n",
    "    return X\n",
    "\n",
    "D_matrix = prepare_distance_matrix()\n",
    "MAX_DISTANCE = int(D_matrix.max())"
   ]
  },
  {
   "cell_type": "code",
   "execution_count": 3,
   "id": "33d37dd7",
   "metadata": {
    "code_folding": [
     1
    ]
   },
   "outputs": [],
   "source": [
    "def prepare_population_vec():\n",
    "    data = \"\"\"\n",
    "        District\n",
    "        Population\n",
    "        1\n",
    "        40\n",
    "        2\n",
    "        30\n",
    "        3\n",
    "        35\n",
    "        4\n",
    "        20\n",
    "        5\n",
    "        15\n",
    "        6\n",
    "        50\n",
    "        7\n",
    "        45\n",
    "        8\n",
    "        60\n",
    "    \"\"\"\n",
    "\n",
    "    data = pd.Series(data.split('\\n')[1:-1]).str.lstrip()\n",
    "    X = np.reshape(np.array(data), (9, 2)).T[1][1:]\n",
    "    X = pd.Series(X).astype(int).values\n",
    "    return X\n",
    "\n",
    "p_vec = prepare_population_vec()\n",
    "MAX_POPULATION = int(np.max(p_vec))"
   ]
  },
  {
   "cell_type": "markdown",
   "id": "029f9189",
   "metadata": {},
   "source": [
    "# Main\n"
   ]
  },
  {
   "cell_type": "code",
   "execution_count": 4,
   "id": "8992da3a",
   "metadata": {},
   "outputs": [],
   "source": [
    "m = 2\n",
    "n = 8"
   ]
  },
  {
   "cell_type": "markdown",
   "id": "3bf4b52b",
   "metadata": {},
   "source": [
    "### Step 1 : X variables definition"
   ]
  },
  {
   "cell_type": "code",
   "execution_count": 5,
   "id": "f895aed4",
   "metadata": {
    "code_folding": []
   },
   "outputs": [
    {
     "data": {
      "text/plain": [
       "<ortools.sat.python.cp_model.Constraint at 0x7faaf1c4ea60>"
      ]
     },
     "execution_count": 5,
     "metadata": {},
     "output_type": "execute_result"
    },
    {
     "data": {
      "text/plain": [
       "<ortools.sat.python.cp_model.Constraint at 0x7faaf1c4ebe0>"
      ]
     },
     "execution_count": 5,
     "metadata": {},
     "output_type": "execute_result"
    },
    {
     "data": {
      "text/plain": [
       "<ortools.sat.python.cp_model.Constraint at 0x7faaf1c4eca0>"
      ]
     },
     "execution_count": 5,
     "metadata": {},
     "output_type": "execute_result"
    },
    {
     "data": {
      "text/plain": [
       "<ortools.sat.python.cp_model.Constraint at 0x7faaf1c4ed60>"
      ]
     },
     "execution_count": 5,
     "metadata": {},
     "output_type": "execute_result"
    },
    {
     "data": {
      "text/plain": [
       "<ortools.sat.python.cp_model.Constraint at 0x7faaf1c4edc0>"
      ]
     },
     "execution_count": 5,
     "metadata": {},
     "output_type": "execute_result"
    },
    {
     "data": {
      "text/plain": [
       "<ortools.sat.python.cp_model.Constraint at 0x7faaf1c4ee20>"
      ]
     },
     "execution_count": 5,
     "metadata": {},
     "output_type": "execute_result"
    },
    {
     "data": {
      "text/plain": [
       "<ortools.sat.python.cp_model.Constraint at 0x7faaf1c4ee80>"
      ]
     },
     "execution_count": 5,
     "metadata": {},
     "output_type": "execute_result"
    },
    {
     "data": {
      "text/plain": [
       "<ortools.sat.python.cp_model.Constraint at 0x7faaf1c4eee0>"
      ]
     },
     "execution_count": 5,
     "metadata": {},
     "output_type": "execute_result"
    }
   ],
   "source": [
    "# Model.\n",
    "from ortools.sat.python import cp_model\n",
    "model = cp_model.CpModel()\n",
    "\n",
    "\n",
    "# Change variable\n",
    "x_vec = [model.NewIntVar(0, m, f\"district_{x}\") for x in range(D_matrix.shape[0])]\n",
    "\n",
    "# Vector of presence ambulance in district\n",
    "has_ambulance = []\n",
    "for _id, x in enumerate(x_vec):\n",
    "    bool_var = model.NewBoolVar(f\"has_ambulance_{_id}\")\n",
    "    model.Add(bool_var == x > 0)\n",
    "    has_ambulance.append(bool_var)"
   ]
  },
  {
   "cell_type": "markdown",
   "id": "b054bd09",
   "metadata": {},
   "source": [
    "### Step 2 : Objective function formulation"
   ]
  },
  {
   "cell_type": "code",
   "execution_count": 6,
   "id": "951a5855",
   "metadata": {},
   "outputs": [],
   "source": [
    "# x_matrix = [[1, 0, 0, 0, 0, 0, 0, 1]] * D_matrix.shape[0]\n",
    "x_matrix = [x_vec] * D_matrix.shape[0]"
   ]
  },
  {
   "cell_type": "code",
   "execution_count": 7,
   "id": "03af0fcf",
   "metadata": {
    "code_folding": []
   },
   "outputs": [
    {
     "name": "stderr",
     "output_type": "stream",
     "text": [
      "[ 09/17/2021 07:38:58 AM ][ INFO ]: Constrain is set for d_0_0\n",
      "[ 09/17/2021 07:38:58 AM ][ INFO ]: Constrain is set for d_0_1\n",
      "[ 09/17/2021 07:38:58 AM ][ INFO ]: Constrain is set for d_0_2\n",
      "[ 09/17/2021 07:38:58 AM ][ INFO ]: Constrain is set for d_0_3\n",
      "[ 09/17/2021 07:38:58 AM ][ INFO ]: Constrain is set for d_0_4\n",
      "[ 09/17/2021 07:38:58 AM ][ INFO ]: Constrain is set for d_0_5\n",
      "[ 09/17/2021 07:38:58 AM ][ INFO ]: Constrain is set for d_0_6\n",
      "[ 09/17/2021 07:38:58 AM ][ INFO ]: Constrain is set for d_0_7\n",
      "[ 09/17/2021 07:38:58 AM ][ INFO ]: Constrain is set for d_1_0\n",
      "[ 09/17/2021 07:38:58 AM ][ INFO ]: Constrain is set for d_1_1\n",
      "[ 09/17/2021 07:38:58 AM ][ INFO ]: Constrain is set for d_1_2\n",
      "[ 09/17/2021 07:38:58 AM ][ INFO ]: Constrain is set for d_1_3\n",
      "[ 09/17/2021 07:38:58 AM ][ INFO ]: Constrain is set for d_1_4\n",
      "[ 09/17/2021 07:38:58 AM ][ INFO ]: Constrain is set for d_1_5\n",
      "[ 09/17/2021 07:38:58 AM ][ INFO ]: Constrain is set for d_1_6\n",
      "[ 09/17/2021 07:38:58 AM ][ INFO ]: Constrain is set for d_1_7\n",
      "[ 09/17/2021 07:38:58 AM ][ INFO ]: Constrain is set for d_2_0\n",
      "[ 09/17/2021 07:38:58 AM ][ INFO ]: Constrain is set for d_2_1\n",
      "[ 09/17/2021 07:38:58 AM ][ INFO ]: Constrain is set for d_2_2\n",
      "[ 09/17/2021 07:38:58 AM ][ INFO ]: Constrain is set for d_2_3\n",
      "[ 09/17/2021 07:38:58 AM ][ INFO ]: Constrain is set for d_2_4\n",
      "[ 09/17/2021 07:38:58 AM ][ INFO ]: Constrain is set for d_2_5\n",
      "[ 09/17/2021 07:38:58 AM ][ INFO ]: Constrain is set for d_2_6\n",
      "[ 09/17/2021 07:38:58 AM ][ INFO ]: Constrain is set for d_2_7\n",
      "[ 09/17/2021 07:38:58 AM ][ INFO ]: Constrain is set for d_3_0\n",
      "[ 09/17/2021 07:38:58 AM ][ INFO ]: Constrain is set for d_3_1\n",
      "[ 09/17/2021 07:38:58 AM ][ INFO ]: Constrain is set for d_3_2\n",
      "[ 09/17/2021 07:38:58 AM ][ INFO ]: Constrain is set for d_3_3\n",
      "[ 09/17/2021 07:38:58 AM ][ INFO ]: Constrain is set for d_3_4\n",
      "[ 09/17/2021 07:38:58 AM ][ INFO ]: Constrain is set for d_3_5\n",
      "[ 09/17/2021 07:38:58 AM ][ INFO ]: Constrain is set for d_3_6\n",
      "[ 09/17/2021 07:38:58 AM ][ INFO ]: Constrain is set for d_3_7\n",
      "[ 09/17/2021 07:38:58 AM ][ INFO ]: Constrain is set for d_4_0\n",
      "[ 09/17/2021 07:38:58 AM ][ INFO ]: Constrain is set for d_4_1\n",
      "[ 09/17/2021 07:38:58 AM ][ INFO ]: Constrain is set for d_4_2\n",
      "[ 09/17/2021 07:38:58 AM ][ INFO ]: Constrain is set for d_4_3\n",
      "[ 09/17/2021 07:38:58 AM ][ INFO ]: Constrain is set for d_4_4\n",
      "[ 09/17/2021 07:38:58 AM ][ INFO ]: Constrain is set for d_4_5\n",
      "[ 09/17/2021 07:38:58 AM ][ INFO ]: Constrain is set for d_4_6\n",
      "[ 09/17/2021 07:38:58 AM ][ INFO ]: Constrain is set for d_4_7\n",
      "[ 09/17/2021 07:38:58 AM ][ INFO ]: Constrain is set for d_5_0\n",
      "[ 09/17/2021 07:38:58 AM ][ INFO ]: Constrain is set for d_5_1\n",
      "[ 09/17/2021 07:38:58 AM ][ INFO ]: Constrain is set for d_5_2\n",
      "[ 09/17/2021 07:38:58 AM ][ INFO ]: Constrain is set for d_5_3\n",
      "[ 09/17/2021 07:38:58 AM ][ INFO ]: Constrain is set for d_5_4\n",
      "[ 09/17/2021 07:38:58 AM ][ INFO ]: Constrain is set for d_5_5\n",
      "[ 09/17/2021 07:38:58 AM ][ INFO ]: Constrain is set for d_5_6\n",
      "[ 09/17/2021 07:38:58 AM ][ INFO ]: Constrain is set for d_5_7\n",
      "[ 09/17/2021 07:38:58 AM ][ INFO ]: Constrain is set for d_6_0\n",
      "[ 09/17/2021 07:38:58 AM ][ INFO ]: Constrain is set for d_6_1\n",
      "[ 09/17/2021 07:38:58 AM ][ INFO ]: Constrain is set for d_6_2\n",
      "[ 09/17/2021 07:38:58 AM ][ INFO ]: Constrain is set for d_6_3\n",
      "[ 09/17/2021 07:38:58 AM ][ INFO ]: Constrain is set for d_6_4\n",
      "[ 09/17/2021 07:38:58 AM ][ INFO ]: Constrain is set for d_6_5\n",
      "[ 09/17/2021 07:38:58 AM ][ INFO ]: Constrain is set for d_6_6\n",
      "[ 09/17/2021 07:38:58 AM ][ INFO ]: Constrain is set for d_6_7\n",
      "[ 09/17/2021 07:38:58 AM ][ INFO ]: Constrain is set for d_7_0\n",
      "[ 09/17/2021 07:38:58 AM ][ INFO ]: Constrain is set for d_7_1\n",
      "[ 09/17/2021 07:38:58 AM ][ INFO ]: Constrain is set for d_7_2\n",
      "[ 09/17/2021 07:38:58 AM ][ INFO ]: Constrain is set for d_7_3\n",
      "[ 09/17/2021 07:38:58 AM ][ INFO ]: Constrain is set for d_7_4\n",
      "[ 09/17/2021 07:38:58 AM ][ INFO ]: Constrain is set for d_7_5\n",
      "[ 09/17/2021 07:38:59 AM ][ INFO ]: Constrain is set for d_7_6\n",
      "[ 09/17/2021 07:38:59 AM ][ INFO ]: Constrain is set for d_7_7\n"
     ]
    }
   ],
   "source": [
    "# Set Max distances to ones column not selected & i=j\n",
    "\n",
    "D_amb_district_2 = []\n",
    "\n",
    "D_amb_district_1 = D_matrix * x_matrix\n",
    "for i in range(D_amb_district_1.shape[0]):\n",
    "\n",
    "    distrcit_distance = []\n",
    "    for j in range(D_amb_district_1.shape[1]):\n",
    "\n",
    "        # 1. Registiring new variable\n",
    "        d_i_j = model.NewIntVar(0, MAX_DISTANCE, f'min_amb_distr_{i}_{j}')\n",
    "\n",
    "        _ = model.Add(d_i_j == D_amb_district_1[i][j]).OnlyEnforceIf(has_ambulance[j])\n",
    "        _ = model.Add(d_i_j == MAX_DISTANCE).OnlyEnforceIf(has_ambulance[j].Not())        \n",
    "        logging.info(f\"Constrain is set for d_{i}_{j}\")\n",
    "\n",
    "        distrcit_distance.append(d_i_j)\n",
    "    D_amb_district_2.append(distrcit_distance)\n",
    "\n",
    "D_amb_district_2 = np.array(D_amb_district_2)"
   ]
  },
  {
   "cell_type": "code",
   "execution_count": 8,
   "id": "4e4abf24",
   "metadata": {},
   "outputs": [],
   "source": [
    "# Extraction min distances between ambulances to districts from matrix\n",
    "min_distances = []\n",
    "\n",
    "\n",
    "for _id, j in enumerate(range(D_amb_district_2.shape[0])):\n",
    "    min_distance = model.NewIntVar(0, MAX_DISTANCE, f'min_distance_{_id}')\n",
    "    _ = model.AddMinEquality(min_distance, D_amb_district_2[j])\n",
    "    min_distances.append(min_distance)\n",
    "\n",
    "min_distances = np.array(min_distances)"
   ]
  },
  {
   "cell_type": "code",
   "execution_count": 9,
   "id": "04712ed5",
   "metadata": {},
   "outputs": [],
   "source": [
    "# Extraction of product min distances between ambulances to districts and population\n",
    "prod_min_d_population = p_vec * min_distances\n",
    "\n",
    "c_prod_min_d_population = []\n",
    "for _id, product_d_pop in enumerate(prod_min_d_population):\n",
    "    intermediate = model.NewIntVar(0, MAX_DISTANCE*MAX_POPULATION, f'product_pop_min_dist_{_id}')\n",
    "    _ = model.Add(intermediate == product_d_pop)\n",
    "    c_prod_min_d_population.append(intermediate)"
   ]
  },
  {
   "cell_type": "code",
   "execution_count": 10,
   "id": "834b1333",
   "metadata": {},
   "outputs": [
    {
     "data": {
      "text/plain": [
       "<ortools.sat.python.cp_model.Constraint at 0x7faaf1c66c10>"
      ]
     },
     "execution_count": 10,
     "metadata": {},
     "output_type": "execute_result"
    }
   ],
   "source": [
    "# Setup minimization\n",
    "objective = model.NewIntVar(0, MAX_DISTANCE*MAX_POPULATION, 'objective')\n",
    "\n",
    "model.AddMaxEquality(objective, c_prod_min_d_population)\n",
    "_ = model.Minimize(objective)"
   ]
  },
  {
   "cell_type": "code",
   "execution_count": 18,
   "id": "168219e0",
   "metadata": {},
   "outputs": [
    {
     "data": {
      "text/plain": [
       "''"
      ]
     },
     "execution_count": 18,
     "metadata": {},
     "output_type": "execute_result"
    }
   ],
   "source": [
    "model.Validate()"
   ]
  },
  {
   "cell_type": "markdown",
   "id": "cef56065",
   "metadata": {},
   "source": [
    "### Step 3 : Constrains add\n",
    "\n",
    "---\n",
    "\n",
    "* **Modeling constrains**:\n",
    "    * **Constrain 1**: Each job must be assigned only once\n",
    "* **Input constrains**:\n",
    "    * **Constrain 2**: Predefined constrains"
   ]
  },
  {
   "cell_type": "markdown",
   "id": "2d471c0e",
   "metadata": {},
   "source": [
    "**Constrain 1**: Each job must be assigned only once"
   ]
  },
  {
   "cell_type": "markdown",
   "id": "83928b9d",
   "metadata": {},
   "source": [
    "**Constrain 2**: Each job must be assigned only once"
   ]
  },
  {
   "cell_type": "markdown",
   "id": "69786fe7",
   "metadata": {},
   "source": [
    "### 4. Solving optimization"
   ]
  },
  {
   "cell_type": "markdown",
   "id": "08029cf2",
   "metadata": {},
   "source": [
    "### 5. Results visualization"
   ]
  }
 ],
 "metadata": {
  "kernelspec": {
   "display_name": "Python 3",
   "language": "python",
   "name": "python3"
  },
  "language_info": {
   "codemirror_mode": {
    "name": "ipython",
    "version": 3
   },
   "file_extension": ".py",
   "mimetype": "text/x-python",
   "name": "python",
   "nbconvert_exporter": "python",
   "pygments_lexer": "ipython3",
   "version": "3.9.5"
  },
  "varInspector": {
   "cols": {
    "lenName": 16,
    "lenType": 16,
    "lenVar": 40
   },
   "kernels_config": {
    "python": {
     "delete_cmd_postfix": "",
     "delete_cmd_prefix": "del ",
     "library": "var_list.py",
     "varRefreshCmd": "print(var_dic_list())"
    },
    "r": {
     "delete_cmd_postfix": ") ",
     "delete_cmd_prefix": "rm(",
     "library": "var_list.r",
     "varRefreshCmd": "cat(var_dic_list()) "
    }
   },
   "types_to_exclude": [
    "module",
    "function",
    "builtin_function_or_method",
    "instance",
    "_Feature"
   ],
   "window_display": false
  }
 },
 "nbformat": 4,
 "nbformat_minor": 5
}
