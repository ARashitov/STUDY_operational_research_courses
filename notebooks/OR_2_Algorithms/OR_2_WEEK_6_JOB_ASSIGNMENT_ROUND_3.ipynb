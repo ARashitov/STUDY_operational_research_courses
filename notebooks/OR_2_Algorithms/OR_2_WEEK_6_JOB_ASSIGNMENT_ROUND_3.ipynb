{
 "cells": [
  {
   "cell_type": "markdown",
   "id": "secondary-engagement",
   "metadata": {},
   "source": [
    "# About\n",
    "* **Author**: Adil Rashitov\n",
    "* **Created at**: 07.08.2021\n",
    "* **Goal**: Solve final assignment\n",
    "\n",
    "![pictures](pictures/FINAL_TASK_1.png)"
   ]
  },
  {
   "cell_type": "code",
   "execution_count": 1,
   "id": "material-freedom",
   "metadata": {
    "code_folding": [
     0
    ]
   },
   "outputs": [
    {
     "data": {
      "text/html": [
       "<style>.container { width:100% !important; }</style>"
      ],
      "text/plain": [
       "<IPython.core.display.HTML object>"
      ]
     },
     "metadata": {},
     "output_type": "display_data"
    },
    {
     "data": {
      "text/html": [
       "<style>.container { width:100% !important; }</style>"
      ],
      "text/plain": [
       "<IPython.core.display.HTML object>"
      ]
     },
     "metadata": {},
     "output_type": "display_data"
    }
   ],
   "source": [
    "# Imports / Configs / Global vars\n",
    "\n",
    "# Import of native python tools\n",
    "import os\n",
    "import json\n",
    "from functools import reduce\n",
    "\n",
    "# Import of base ML stack libs\n",
    "import numpy as np\n",
    "import sklearn as sc\n",
    "\n",
    "# Multiprocessing for Mac / Linux\n",
    "import platform\n",
    "platform.system()\n",
    "if platform.system() == 'Darwin':\n",
    "    from multiprocess import Pool\n",
    "else:\n",
    "    from multiprocessing import Pool\n",
    "\n",
    "# Visualization libraries\n",
    "import plotly.express as px\n",
    "\n",
    "# Logging configuraiton\n",
    "import logging\n",
    "logging.basicConfig(format='[ %(asctime)s ][ %(levelname)s ]: %(message)s', datefmt='%m/%d/%Y %I:%M:%S %p')\n",
    "logger = logging.getLogger()\n",
    "logger.setLevel(logging.INFO)\n",
    "\n",
    "# Ipython configs\n",
    "from IPython.core.display import display, HTML\n",
    "from IPython.core.interactiveshell import InteractiveShell\n",
    "display(HTML(\"<style>.container { width:100% !important; }</style>\"))\n",
    "InteractiveShell.ast_node_interactivity = 'all'\n",
    "\n",
    "# Pandas configs\n",
    "import pandas as pd\n",
    "import geopandas as gpd\n",
    "pd.options.display.max_rows = 350\n",
    "pd.options.display.max_columns = 250\n",
    "\n",
    "# Jupyter configs\n",
    "%load_ext autoreload\n",
    "%autoreload 2\n",
    "%config Completer.use_jedi = False\n",
    "\n",
    "from ortools.linear_solver import pywraplp"
   ]
  },
  {
   "cell_type": "markdown",
   "id": "13a8d485",
   "metadata": {},
   "source": [
    "# Data"
   ]
  },
  {
   "cell_type": "code",
   "execution_count": 2,
   "id": "f51f864d",
   "metadata": {
    "code_folding": [
     1
    ]
   },
   "outputs": [],
   "source": [
    "# Data reading & prepatre\n",
    "def prepare_data():\n",
    "\n",
    "    DATA = \"\"\"\n",
    "    1\t7\tNone\n",
    "    2\t4\t5, 8\n",
    "    3\t6\tNone\n",
    "    4\t9\tNone\n",
    "    5\t12\t2, 8\n",
    "    6\t8\t9\n",
    "    7\t10\t10\n",
    "    8\t11\t2, 5\n",
    "    9\t8\t6\n",
    "    10\t7\t7\n",
    "    11\t6\t15\n",
    "    12\t8\tNone\n",
    "    13\t15\tNone\n",
    "    14\t14\tNone\n",
    "    15\t3\t11\n",
    "    \"\"\"\n",
    "\n",
    "\n",
    "    DATA = DATA.split('\\n')[1:-1]\n",
    "    DATA = list(map(lambda x: x.split('\\t'), DATA))\n",
    "    data = pd.DataFrame(DATA, columns=['Job', 'Processing time', 'Conflicting jobs'])\n",
    "    data['Job'] = data['Job'].str.lstrip().str.rstrip()\n",
    "    data['Processing time'] = data['Processing time'].astype(int)\n",
    "    return data\n"
   ]
  },
  {
   "cell_type": "code",
   "execution_count": 3,
   "id": "9ffdb706",
   "metadata": {},
   "outputs": [
    {
     "name": "stderr",
     "output_type": "stream",
     "text": [
      "[ 09/10/2021 11:38:43 AM ][ INFO ]: 15 jobs need to assigned to 3 machines\n",
      "[ 09/10/2021 11:38:43 AM ][ INFO ]: 15 jobs need to assigned to 3 machines\n",
      "[ 09/10/2021 11:38:43 AM ][ INFO ]: Jobs dataframe:\n",
      "[ 09/10/2021 11:38:43 AM ][ INFO ]: Jobs dataframe:\n"
     ]
    },
    {
     "data": {
      "text/html": [
       "<div>\n",
       "<style scoped>\n",
       "    .dataframe tbody tr th:only-of-type {\n",
       "        vertical-align: middle;\n",
       "    }\n",
       "\n",
       "    .dataframe tbody tr th {\n",
       "        vertical-align: top;\n",
       "    }\n",
       "\n",
       "    .dataframe thead th {\n",
       "        text-align: right;\n",
       "    }\n",
       "</style>\n",
       "<table border=\"1\" class=\"dataframe\">\n",
       "  <thead>\n",
       "    <tr style=\"text-align: right;\">\n",
       "      <th></th>\n",
       "      <th>Job</th>\n",
       "      <th>Processing time</th>\n",
       "      <th>Conflicting jobs</th>\n",
       "    </tr>\n",
       "  </thead>\n",
       "  <tbody>\n",
       "    <tr>\n",
       "      <th>0</th>\n",
       "      <td>1</td>\n",
       "      <td>7</td>\n",
       "      <td>None</td>\n",
       "    </tr>\n",
       "    <tr>\n",
       "      <th>1</th>\n",
       "      <td>2</td>\n",
       "      <td>4</td>\n",
       "      <td>5, 8</td>\n",
       "    </tr>\n",
       "    <tr>\n",
       "      <th>2</th>\n",
       "      <td>3</td>\n",
       "      <td>6</td>\n",
       "      <td>None</td>\n",
       "    </tr>\n",
       "    <tr>\n",
       "      <th>3</th>\n",
       "      <td>4</td>\n",
       "      <td>9</td>\n",
       "      <td>None</td>\n",
       "    </tr>\n",
       "    <tr>\n",
       "      <th>4</th>\n",
       "      <td>5</td>\n",
       "      <td>12</td>\n",
       "      <td>2, 8</td>\n",
       "    </tr>\n",
       "    <tr>\n",
       "      <th>5</th>\n",
       "      <td>6</td>\n",
       "      <td>8</td>\n",
       "      <td>9</td>\n",
       "    </tr>\n",
       "    <tr>\n",
       "      <th>6</th>\n",
       "      <td>7</td>\n",
       "      <td>10</td>\n",
       "      <td>10</td>\n",
       "    </tr>\n",
       "    <tr>\n",
       "      <th>7</th>\n",
       "      <td>8</td>\n",
       "      <td>11</td>\n",
       "      <td>2, 5</td>\n",
       "    </tr>\n",
       "    <tr>\n",
       "      <th>8</th>\n",
       "      <td>9</td>\n",
       "      <td>8</td>\n",
       "      <td>6</td>\n",
       "    </tr>\n",
       "    <tr>\n",
       "      <th>9</th>\n",
       "      <td>10</td>\n",
       "      <td>7</td>\n",
       "      <td>7</td>\n",
       "    </tr>\n",
       "    <tr>\n",
       "      <th>10</th>\n",
       "      <td>11</td>\n",
       "      <td>6</td>\n",
       "      <td>15</td>\n",
       "    </tr>\n",
       "    <tr>\n",
       "      <th>11</th>\n",
       "      <td>12</td>\n",
       "      <td>8</td>\n",
       "      <td>None</td>\n",
       "    </tr>\n",
       "    <tr>\n",
       "      <th>12</th>\n",
       "      <td>13</td>\n",
       "      <td>15</td>\n",
       "      <td>None</td>\n",
       "    </tr>\n",
       "    <tr>\n",
       "      <th>13</th>\n",
       "      <td>14</td>\n",
       "      <td>14</td>\n",
       "      <td>None</td>\n",
       "    </tr>\n",
       "    <tr>\n",
       "      <th>14</th>\n",
       "      <td>15</td>\n",
       "      <td>3</td>\n",
       "      <td>11</td>\n",
       "    </tr>\n",
       "  </tbody>\n",
       "</table>\n",
       "</div>"
      ],
      "text/plain": [
       "   Job  Processing time Conflicting jobs\n",
       "0    1                7             None\n",
       "1    2                4             5, 8\n",
       "2    3                6             None\n",
       "3    4                9             None\n",
       "4    5               12             2, 8\n",
       "5    6                8                9\n",
       "6    7               10               10\n",
       "7    8               11             2, 5\n",
       "8    9                8                6\n",
       "9   10                7                7\n",
       "10  11                6               15\n",
       "11  12                8             None\n",
       "12  13               15             None\n",
       "13  14               14             None\n",
       "14  15                3               11"
      ]
     },
     "execution_count": 3,
     "metadata": {},
     "output_type": "execute_result"
    },
    {
     "name": "stderr",
     "output_type": "stream",
     "text": [
      "[ 09/10/2021 11:38:43 AM ][ INFO ]: Horizon: 128\n"
     ]
    },
    {
     "data": {
      "text/html": [
       "<div>\n",
       "<style scoped>\n",
       "    .dataframe tbody tr th:only-of-type {\n",
       "        vertical-align: middle;\n",
       "    }\n",
       "\n",
       "    .dataframe tbody tr th {\n",
       "        vertical-align: top;\n",
       "    }\n",
       "\n",
       "    .dataframe thead th {\n",
       "        text-align: right;\n",
       "    }\n",
       "</style>\n",
       "<table border=\"1\" class=\"dataframe\">\n",
       "  <thead>\n",
       "    <tr style=\"text-align: right;\">\n",
       "      <th></th>\n",
       "      <th>Job</th>\n",
       "      <th>Processing time</th>\n",
       "      <th>Conflicting jobs</th>\n",
       "    </tr>\n",
       "  </thead>\n",
       "  <tbody>\n",
       "    <tr>\n",
       "      <th>0</th>\n",
       "      <td>1</td>\n",
       "      <td>7</td>\n",
       "      <td>None</td>\n",
       "    </tr>\n",
       "    <tr>\n",
       "      <th>1</th>\n",
       "      <td>2</td>\n",
       "      <td>4</td>\n",
       "      <td>5, 8</td>\n",
       "    </tr>\n",
       "    <tr>\n",
       "      <th>2</th>\n",
       "      <td>3</td>\n",
       "      <td>6</td>\n",
       "      <td>None</td>\n",
       "    </tr>\n",
       "    <tr>\n",
       "      <th>3</th>\n",
       "      <td>4</td>\n",
       "      <td>9</td>\n",
       "      <td>None</td>\n",
       "    </tr>\n",
       "    <tr>\n",
       "      <th>4</th>\n",
       "      <td>5</td>\n",
       "      <td>12</td>\n",
       "      <td>2, 8</td>\n",
       "    </tr>\n",
       "    <tr>\n",
       "      <th>5</th>\n",
       "      <td>6</td>\n",
       "      <td>8</td>\n",
       "      <td>9</td>\n",
       "    </tr>\n",
       "    <tr>\n",
       "      <th>6</th>\n",
       "      <td>7</td>\n",
       "      <td>10</td>\n",
       "      <td>10</td>\n",
       "    </tr>\n",
       "    <tr>\n",
       "      <th>7</th>\n",
       "      <td>8</td>\n",
       "      <td>11</td>\n",
       "      <td>2, 5</td>\n",
       "    </tr>\n",
       "    <tr>\n",
       "      <th>8</th>\n",
       "      <td>9</td>\n",
       "      <td>8</td>\n",
       "      <td>6</td>\n",
       "    </tr>\n",
       "    <tr>\n",
       "      <th>9</th>\n",
       "      <td>10</td>\n",
       "      <td>7</td>\n",
       "      <td>7</td>\n",
       "    </tr>\n",
       "    <tr>\n",
       "      <th>10</th>\n",
       "      <td>11</td>\n",
       "      <td>6</td>\n",
       "      <td>15</td>\n",
       "    </tr>\n",
       "    <tr>\n",
       "      <th>11</th>\n",
       "      <td>12</td>\n",
       "      <td>8</td>\n",
       "      <td>None</td>\n",
       "    </tr>\n",
       "    <tr>\n",
       "      <th>12</th>\n",
       "      <td>13</td>\n",
       "      <td>15</td>\n",
       "      <td>None</td>\n",
       "    </tr>\n",
       "    <tr>\n",
       "      <th>13</th>\n",
       "      <td>14</td>\n",
       "      <td>14</td>\n",
       "      <td>None</td>\n",
       "    </tr>\n",
       "    <tr>\n",
       "      <th>14</th>\n",
       "      <td>15</td>\n",
       "      <td>3</td>\n",
       "      <td>11</td>\n",
       "    </tr>\n",
       "  </tbody>\n",
       "</table>\n",
       "</div>"
      ],
      "text/plain": [
       "   Job  Processing time Conflicting jobs\n",
       "0    1                7             None\n",
       "1    2                4             5, 8\n",
       "2    3                6             None\n",
       "3    4                9             None\n",
       "4    5               12             2, 8\n",
       "5    6                8                9\n",
       "6    7               10               10\n",
       "7    8               11             2, 5\n",
       "8    9                8                6\n",
       "9   10                7                7\n",
       "10  11                6               15\n",
       "11  12                8             None\n",
       "12  13               15             None\n",
       "13  14               14             None\n",
       "14  15                3               11"
      ]
     },
     "execution_count": 3,
     "metadata": {},
     "output_type": "execute_result"
    },
    {
     "name": "stderr",
     "output_type": "stream",
     "text": [
      "[ 09/10/2021 11:38:43 AM ][ INFO ]: Horizon: 128\n"
     ]
    }
   ],
   "source": [
    "jobs_df = prepare_data()\n",
    "horizon = int(jobs_df['Processing time'].sum())\n",
    "\n",
    "\n",
    "N_MACHINES = 3\n",
    "N_JOBS = jobs_df.shape[0]\n",
    "logging.info(f\"{N_JOBS} jobs need to assigned to {N_MACHINES} machines\")\n",
    "logging.info(f\"Jobs dataframe:\")\n",
    "jobs_df\n",
    "logging.info(f\"Horizon: {horizon}\")"
   ]
  },
  {
   "cell_type": "markdown",
   "id": "029f9189",
   "metadata": {},
   "source": [
    "# Main\n"
   ]
  },
  {
   "cell_type": "markdown",
   "id": "3bf4b52b",
   "metadata": {},
   "source": [
    "### Step 1 : Model definition"
   ]
  },
  {
   "cell_type": "code",
   "execution_count": 4,
   "id": "f895aed4",
   "metadata": {},
   "outputs": [],
   "source": [
    "# Model.\n",
    "from ortools.sat.python import cp_model\n",
    "model = cp_model.CpModel()\n",
    "\n",
    "\n",
    "# Change variable\n",
    "X  = np.array([[model.NewBoolVar(f\"JOB_{job}_MACHINE_{machine}\") for job in range(N_JOBS)] for machine in range(N_MACHINES)])\n",
    "\n",
    "# Cost vector\n",
    "J = np.array(jobs_df['Processing time'])"
   ]
  },
  {
   "cell_type": "markdown",
   "id": "b054bd09",
   "metadata": {},
   "source": [
    "### Step 2 : Objective function formulation\n",
    "\n",
    "Answer to problem with definiton of objective function lies: https://groups.google.com/g/or-tools-discuss/c/BJhIMaVQ2w8/m/yfMcPamUFgAJ\n",
    "\n",
    "\n",
    "> AddMaxEquality() expects an array of variables, not an array of expressions. Please create intermediate variables for each .all_tasks[job_id, len(job) - 1].deadline - all_tasks[job_id, len(job) - 1].end.\n",
    "\n",
    "\n",
    "\n",
    "\n",
    "Laurent Perron | Operations Research | lpe...@google.com | (33) 1 42 68 53 00\n"
   ]
  },
  {
   "cell_type": "code",
   "execution_count": 5,
   "id": "04712ed5",
   "metadata": {},
   "outputs": [
    {
     "data": {
      "text/plain": [
       "<ortools.sat.python.cp_model.Constraint at 0x4066a92dc0>"
      ]
     },
     "execution_count": 5,
     "metadata": {},
     "output_type": "execute_result"
    },
    {
     "data": {
      "text/plain": [
       "<ortools.sat.python.cp_model.Constraint at 0x4066a92dc0>"
      ]
     },
     "execution_count": 5,
     "metadata": {},
     "output_type": "execute_result"
    },
    {
     "data": {
      "text/plain": [
       "<ortools.sat.python.cp_model.Constraint at 0x4066a92ee0>"
      ]
     },
     "execution_count": 5,
     "metadata": {},
     "output_type": "execute_result"
    },
    {
     "data": {
      "text/plain": [
       "<ortools.sat.python.cp_model.Constraint at 0x4066a92ee0>"
      ]
     },
     "execution_count": 5,
     "metadata": {},
     "output_type": "execute_result"
    },
    {
     "data": {
      "text/plain": [
       "<ortools.sat.python.cp_model.Constraint at 0x4066a92fd0>"
      ]
     },
     "execution_count": 5,
     "metadata": {},
     "output_type": "execute_result"
    },
    {
     "data": {
      "text/plain": [
       "<ortools.sat.python.cp_model.Constraint at 0x4066a8a940>"
      ]
     },
     "execution_count": 5,
     "metadata": {},
     "output_type": "execute_result"
    },
    {
     "data": {
      "text/plain": [
       "<ortools.sat.python.cp_model.Constraint at 0x4066a92fd0>"
      ]
     },
     "execution_count": 5,
     "metadata": {},
     "output_type": "execute_result"
    },
    {
     "data": {
      "text/plain": [
       "<ortools.sat.python.cp_model.Constraint at 0x4066a8a940>"
      ]
     },
     "execution_count": 5,
     "metadata": {},
     "output_type": "execute_result"
    }
   ],
   "source": [
    "# Objective function\n",
    "\n",
    "# 1. Creation of intermediate list holding make span for each machine\n",
    "makespans = []\n",
    "for machine_id, makespan in enumerate(X @ J):\n",
    "    makespans.append(model.NewIntVar(0, horizon, f'machine_span_{machine_id}'))\n",
    "    model.Add(makespans[-1] == makespan)\n",
    "\n",
    "# 2. Overall span minimization\n",
    "overall_span = model.NewIntVar(0, horizon, 'overall_span')\n",
    "model.AddMaxEquality(overall_span, makespans)\n",
    "model.Minimize(overall_span)"
   ]
  },
  {
   "cell_type": "markdown",
   "id": "cef56065",
   "metadata": {},
   "source": [
    "### Step 3 : Constrains add\n",
    "\n",
    "---\n",
    "\n",
    "* **Modeling constrains**:\n",
    "    * **Constrain 1**: Each job must be assigned only once\n",
    "* **Input constrains**:\n",
    "    * **Constrain 2**: Predefined constrains"
   ]
  },
  {
   "cell_type": "markdown",
   "id": "2d471c0e",
   "metadata": {},
   "source": [
    "**Constrain 1**: Each job must be assigned only once"
   ]
  },
  {
   "cell_type": "code",
   "execution_count": 6,
   "id": "6d596f18",
   "metadata": {},
   "outputs": [
    {
     "data": {
      "text/plain": [
       "[<ortools.sat.python.cp_model.Constraint at 0x4066a8d940>,\n",
       " <ortools.sat.python.cp_model.Constraint at 0x4066a8da00>,\n",
       " <ortools.sat.python.cp_model.Constraint at 0x4066a8dac0>,\n",
       " <ortools.sat.python.cp_model.Constraint at 0x4066a8db80>,\n",
       " <ortools.sat.python.cp_model.Constraint at 0x4066a8dc40>,\n",
       " <ortools.sat.python.cp_model.Constraint at 0x4066a8dd00>,\n",
       " <ortools.sat.python.cp_model.Constraint at 0x4066a8ddc0>,\n",
       " <ortools.sat.python.cp_model.Constraint at 0x4066a8de80>,\n",
       " <ortools.sat.python.cp_model.Constraint at 0x4066a8df40>,\n",
       " <ortools.sat.python.cp_model.Constraint at 0x4066a8d4c0>,\n",
       " <ortools.sat.python.cp_model.Constraint at 0x4066a8d400>,\n",
       " <ortools.sat.python.cp_model.Constraint at 0x4066a8d250>,\n",
       " <ortools.sat.python.cp_model.Constraint at 0x4066a8d190>,\n",
       " <ortools.sat.python.cp_model.Constraint at 0x4066a8d0d0>,\n",
       " <ortools.sat.python.cp_model.Constraint at 0x4066a8d040>]"
      ]
     },
     "execution_count": 6,
     "metadata": {},
     "output_type": "execute_result"
    },
    {
     "data": {
      "text/plain": [
       "[<ortools.sat.python.cp_model.Constraint at 0x4066a8d940>,\n",
       " <ortools.sat.python.cp_model.Constraint at 0x4066a8da00>,\n",
       " <ortools.sat.python.cp_model.Constraint at 0x4066a8dac0>,\n",
       " <ortools.sat.python.cp_model.Constraint at 0x4066a8db80>,\n",
       " <ortools.sat.python.cp_model.Constraint at 0x4066a8dc40>,\n",
       " <ortools.sat.python.cp_model.Constraint at 0x4066a8dd00>,\n",
       " <ortools.sat.python.cp_model.Constraint at 0x4066a8ddc0>,\n",
       " <ortools.sat.python.cp_model.Constraint at 0x4066a8de80>,\n",
       " <ortools.sat.python.cp_model.Constraint at 0x4066a8df40>,\n",
       " <ortools.sat.python.cp_model.Constraint at 0x4066a8d4c0>,\n",
       " <ortools.sat.python.cp_model.Constraint at 0x4066a8d400>,\n",
       " <ortools.sat.python.cp_model.Constraint at 0x4066a8d250>,\n",
       " <ortools.sat.python.cp_model.Constraint at 0x4066a8d190>,\n",
       " <ortools.sat.python.cp_model.Constraint at 0x4066a8d0d0>,\n",
       " <ortools.sat.python.cp_model.Constraint at 0x4066a8d040>]"
      ]
     },
     "execution_count": 6,
     "metadata": {},
     "output_type": "execute_result"
    }
   ],
   "source": [
    "[model.Add(x_job == 1) for x_job in sum(X)]"
   ]
  },
  {
   "cell_type": "markdown",
   "id": "69786fe7",
   "metadata": {},
   "source": [
    "### 4. Solving optimization"
   ]
  },
  {
   "cell_type": "code",
   "execution_count": 7,
   "id": "fc98038b",
   "metadata": {},
   "outputs": [],
   "source": [
    "solver = cp_model.CpSolver()\n",
    "status = solver.Solve(model)"
   ]
  },
  {
   "cell_type": "code",
   "execution_count": 8,
   "id": "1ef889b5",
   "metadata": {},
   "outputs": [
    {
     "data": {
      "text/plain": [
       "43.0"
      ]
     },
     "execution_count": 8,
     "metadata": {},
     "output_type": "execute_result"
    },
    {
     "data": {
      "text/plain": [
       "43.0"
      ]
     },
     "execution_count": 8,
     "metadata": {},
     "output_type": "execute_result"
    }
   ],
   "source": [
    "solver.ObjectiveValue()"
   ]
  },
  {
   "cell_type": "markdown",
   "id": "08029cf2",
   "metadata": {},
   "source": [
    "### 5. Results visualization"
   ]
  },
  {
   "cell_type": "code",
   "execution_count": 10,
   "id": "25da76d9",
   "metadata": {},
   "outputs": [
    {
     "data": {
      "text/plain": [
       "[[0, 0, 0, 1, 1, 0, 1, 0, 0, 0, 0, 1, 0, 0, 1],\n",
       " [0, 0, 0, 0, 0, 0, 0, 0, 1, 0, 1, 0, 1, 1, 0],\n",
       " [1, 1, 1, 0, 0, 1, 0, 1, 0, 1, 0, 0, 0, 0, 0]]"
      ]
     },
     "execution_count": 10,
     "metadata": {},
     "output_type": "execute_result"
    },
    {
     "data": {
      "text/plain": [
       "[[0, 0, 0, 1, 1, 0, 1, 0, 0, 0, 0, 1, 0, 0, 1],\n",
       " [0, 0, 0, 0, 0, 0, 0, 0, 1, 0, 1, 0, 1, 1, 0],\n",
       " [1, 1, 1, 0, 0, 1, 0, 1, 0, 1, 0, 0, 0, 0, 0]]"
      ]
     },
     "execution_count": 10,
     "metadata": {},
     "output_type": "execute_result"
    }
   ],
   "source": [
    "X_computed = [[solver.Value(X[row][col]) for col in range(X.shape[1])] for row in range(X.shape[0])]\n"
   ]
  },
  {
   "cell_type": "code",
   "execution_count": null,
   "id": "1d6d5269",
   "metadata": {},
   "outputs": [],
   "source": []
  }
 ],
 "metadata": {
  "kernelspec": {
   "display_name": "Python 3",
   "language": "python",
   "name": "python3"
  },
  "language_info": {
   "codemirror_mode": {
    "name": "ipython",
    "version": 3
   },
   "file_extension": ".py",
   "mimetype": "text/x-python",
   "name": "python",
   "nbconvert_exporter": "python",
   "pygments_lexer": "ipython3",
   "version": "3.9.5"
  },
  "varInspector": {
   "cols": {
    "lenName": 16,
    "lenType": 16,
    "lenVar": 40
   },
   "kernels_config": {
    "python": {
     "delete_cmd_postfix": "",
     "delete_cmd_prefix": "del ",
     "library": "var_list.py",
     "varRefreshCmd": "print(var_dic_list())"
    },
    "r": {
     "delete_cmd_postfix": ") ",
     "delete_cmd_prefix": "rm(",
     "library": "var_list.r",
     "varRefreshCmd": "cat(var_dic_list()) "
    }
   },
   "types_to_exclude": [
    "module",
    "function",
    "builtin_function_or_method",
    "instance",
    "_Feature"
   ],
   "window_display": false
  }
 },
 "nbformat": 4,
 "nbformat_minor": 5
}
