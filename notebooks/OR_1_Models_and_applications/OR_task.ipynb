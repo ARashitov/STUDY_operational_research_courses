{
 "cells": [
  {
   "cell_type": "markdown",
   "id": "secondary-engagement",
   "metadata": {},
   "source": [
    "# About\n",
    "* **Author**: Adil Rashitov\n",
    "* **Created at**: 22.07.2021\n",
    "* **Goal**: Solve linear programming OR problem"
   ]
  },
  {
   "cell_type": "code",
   "execution_count": 1,
   "id": "material-freedom",
   "metadata": {
    "code_folding": [
     0
    ]
   },
   "outputs": [
    {
     "data": {
      "text/html": [
       "<style>.container { width:100% !important; }</style>"
      ],
      "text/plain": [
       "<IPython.core.display.HTML object>"
      ]
     },
     "metadata": {},
     "output_type": "display_data"
    }
   ],
   "source": [
    "# Imports / Configs / Global vars\n",
    "\n",
    "# Import of native python tools\n",
    "import os\n",
    "import json\n",
    "from functools import reduce\n",
    "\n",
    "# Import of base ML stack libs\n",
    "import numpy as np\n",
    "import sklearn as sc\n",
    "\n",
    "# Multiprocessing for Mac / Linux\n",
    "import platform\n",
    "platform.system()\n",
    "if platform.system() == 'Darwin':\n",
    "    from multiprocess import Pool\n",
    "else:\n",
    "    from multiprocessing import Pool\n",
    "\n",
    "# Visualization libraries\n",
    "import plotly.express as px\n",
    "\n",
    "# Logging configuraiton\n",
    "import logging\n",
    "logging.basicConfig(format='[ %(asctime)s ][ %(levelname)s ]: %(message)s', datefmt='%m/%d/%Y %I:%M:%S %p')\n",
    "logger = logging.getLogger()\n",
    "logger.setLevel(logging.INFO)\n",
    "\n",
    "# Ipython configs\n",
    "from IPython.core.display import display, HTML\n",
    "from IPython.core.interactiveshell import InteractiveShell\n",
    "display(HTML(\"<style>.container { width:100% !important; }</style>\"))\n",
    "InteractiveShell.ast_node_interactivity = 'all'\n",
    "\n",
    "# Pandas configs\n",
    "import pandas as pd\n",
    "import geopandas as gpd\n",
    "pd.options.display.max_rows = 350\n",
    "pd.options.display.max_columns = 250\n",
    "\n",
    "# Jupyter configs\n",
    "%load_ext autoreload\n",
    "%autoreload 2\n",
    "%config Completer.use_jedi = False\n",
    "\n",
    "# GLOBAL VARS"
   ]
  },
  {
   "cell_type": "code",
   "execution_count": 33,
   "id": "4b8727b7",
   "metadata": {},
   "outputs": [
    {
     "name": "stdout",
     "output_type": "stream",
     "text": [
      "Requirement already satisfied: ortools in /usr/local/lib/python3.9/site-packages (9.0.9048)\n",
      "Requirement already satisfied: absl-py>=0.11 in /usr/local/lib/python3.9/site-packages (from ortools) (0.13.0)\n",
      "Requirement already satisfied: protobuf>=3.15.8 in /usr/local/lib/python3.9/site-packages (from ortools) (3.17.3)\n",
      "Requirement already satisfied: six in /usr/local/lib/python3.9/site-packages (from absl-py>=0.11->ortools) (1.16.0)\n",
      "\u001b[33mWARNING: Running pip as the 'root' user can result in broken permissions and conflicting behaviour with the system package manager. It is recommended to use a virtual environment instead: https://pip.pypa.io/warnings/venv\u001b[0m\n",
      "Collecting statsmodels\n",
      "  Downloading statsmodels-0.12.2-cp39-cp39-manylinux1_x86_64.whl (9.4 MB)\n",
      "\u001b[K     |████████████████████████████████| 9.4 MB 780 kB/s eta 0:00:01     |████████████████▏               | 4.8 MB 780 kB/s eta 0:00:06\n",
      "\u001b[?25hRequirement already satisfied: scipy>=1.1 in /usr/local/lib/python3.9/site-packages (from statsmodels) (1.6.3)\n",
      "Requirement already satisfied: numpy>=1.15 in /usr/local/lib/python3.9/site-packages (from statsmodels) (1.20.3)\n",
      "Collecting patsy>=0.5\n",
      "  Downloading patsy-0.5.1-py2.py3-none-any.whl (231 kB)\n",
      "\u001b[K     |████████████████████████████████| 231 kB 10.7 MB/s eta 0:00:01\n",
      "\u001b[?25hRequirement already satisfied: pandas>=0.21 in /usr/local/lib/python3.9/site-packages (from statsmodels) (1.2.4)\n",
      "Requirement already satisfied: pytz>=2017.3 in /usr/local/lib/python3.9/site-packages (from pandas>=0.21->statsmodels) (2021.1)\n",
      "Requirement already satisfied: python-dateutil>=2.7.3 in /usr/local/lib/python3.9/site-packages (from pandas>=0.21->statsmodels) (2.8.1)\n",
      "Requirement already satisfied: six in /usr/local/lib/python3.9/site-packages (from patsy>=0.5->statsmodels) (1.16.0)\n",
      "Installing collected packages: patsy, statsmodels\n",
      "Successfully installed patsy-0.5.1 statsmodels-0.12.2\n",
      "\u001b[33mWARNING: Running pip as the 'root' user can result in broken permissions and conflicting behaviour with the system package manager. It is recommended to use a virtual environment instead: https://pip.pypa.io/warnings/venv\u001b[0m\n"
     ]
    }
   ],
   "source": [
    "!pip3 install ortools\n",
    "!pip3 install statsmodels\n",
    "from ortools.linear_solver import pywraplp"
   ]
  },
  {
   "cell_type": "markdown",
   "id": "frozen-deployment",
   "metadata": {},
   "source": [
    "# Task 1 | Production planning\n",
    "\n",
    "* **Goal**: Maximize the total profit\n",
    "* **Change variables**: X - vector (Amount of products to produce for each product type)\n",
    "* **Inputs**:\n",
    "    * `D` - Demand matrix to produce single unit of product\n",
    "    * `P` - Price of single unit produced product\n",
    "    * `L` - Limits of raw materials supply\n",
    "\n",
    "* **Constrains**:\n",
    "    1. Material 1 must be in range `[0, 100]`\n",
    "    1. Material 2 must be in range `[0, 150]`\n",
    "    1. Material 3 must be in range `[0, 200]`\n",
    "\n",
    "\n",
    "* **Steps**\n",
    "    1. Data definition\n",
    "    2. Objective function definition\n",
    "    3. Constrains definition\n",
    "    4. Summary before solving\n",
    "    5. Solving\n",
    "    6. Printing results"
   ]
  },
  {
   "cell_type": "markdown",
   "id": "224acf41",
   "metadata": {},
   "source": [
    "### 1. Data definition"
   ]
  },
  {
   "cell_type": "code",
   "execution_count": 3,
   "id": "9dc30f73",
   "metadata": {
    "code_folding": [
     0
    ]
   },
   "outputs": [],
   "source": [
    "# Demand of raw materials to produce single unit of good\n",
    "D = np.array([\n",
    "    [0, 3, 10],\n",
    "    [5, 10, 10],\n",
    "    [5, 3, 9],\n",
    "    [4, 6, 3],\n",
    "    [8, 2, 8],\n",
    "    [5, 2, 10],\n",
    "    [3, 2, 7],\n",
    "])\n",
    "\n",
    " # Prices\n",
    "P = np.array([100, 120, 135, 90, 125, 110, 105])\n",
    "\n",
    "# Material supply limit\n",
    "L = np.array([100, 150, 200])\n",
    "\n",
    "X = [1, 1, 1, 1, 1, 1, 1]\n",
    "\n",
    "solver = pywraplp.Solver.CreateSolver('GLOP')"
   ]
  },
  {
   "cell_type": "markdown",
   "id": "8787728b",
   "metadata": {},
   "source": [
    "### 2. set objective function"
   ]
  },
  {
   "cell_type": "code",
   "execution_count": 4,
   "id": "3ff933a8",
   "metadata": {
    "code_folding": []
   },
   "outputs": [],
   "source": [
    "# OBJECTIVE: Maximize revenue of products\n",
    "\n",
    "# 1. Definition of product array\n",
    "x_vec = [\n",
    "    solver.NumVar(0, solver.infinity(), f\"Product: {x+1}\")\n",
    "    for x in range(D.shape[0])\n",
    "]\n",
    "x_vec = np.array(x_vec)\n",
    "\n",
    "# 2. Maximization Price * quantity\n",
    "solver.Maximize(x_vec @ P)"
   ]
  },
  {
   "cell_type": "code",
   "execution_count": 5,
   "id": "e7f7d990",
   "metadata": {
    "code_folding": [
     0
    ]
   },
   "outputs": [
    {
     "data": {
      "text/plain": [
       "True"
      ]
     },
     "execution_count": 5,
     "metadata": {},
     "output_type": "execute_result"
    }
   ],
   "source": [
    "# Lets verify that solution is infeasible\n",
    "solver.Solve() == solver.INFEASIBLE"
   ]
  },
  {
   "cell_type": "markdown",
   "id": "2bcd8c29",
   "metadata": {},
   "source": [
    "Okay, as we see we defined our target however did't add constrains to make solution feasible\n",
    "\n",
    "### Below are listed statuses that solver may return\n",
    "![image](pictures/SOLVER_STATUSES.png)"
   ]
  },
  {
   "cell_type": "markdown",
   "id": "c230accd",
   "metadata": {},
   "source": [
    "### 3. Constrains definition"
   ]
  },
  {
   "cell_type": "code",
   "execution_count": 6,
   "id": "7aa0174c",
   "metadata": {},
   "outputs": [],
   "source": [
    "# x_vec @ D:\n",
    "# How many raw materials are needed\n",
    "# to produce a single unit of product\n",
    "for x, lower, upper in zip(x_vec @ D, [0]*len(x_vec), L):\n",
    "    _ = solver.Add((x >= lower) and (x <= upper))"
   ]
  },
  {
   "cell_type": "markdown",
   "id": "c23d96b2",
   "metadata": {},
   "source": [
    "### 4. Summary before solving"
   ]
  },
  {
   "cell_type": "code",
   "execution_count": 7,
   "id": "5cb685c3",
   "metadata": {},
   "outputs": [
    {
     "name": "stdout",
     "output_type": "stream",
     "text": [
      "Number of variables = 7\n",
      "Number of constraints = 3\n"
     ]
    }
   ],
   "source": [
    "print('Number of variables =', solver.NumVariables())\n",
    "print('Number of constraints =', solver.NumConstraints())"
   ]
  },
  {
   "cell_type": "markdown",
   "id": "89dafeef",
   "metadata": {},
   "source": [
    "### 5. Solving"
   ]
  },
  {
   "cell_type": "code",
   "execution_count": 11,
   "id": "17e0777e",
   "metadata": {},
   "outputs": [
    {
     "data": {
      "text/plain": [
       "True"
      ]
     },
     "execution_count": 11,
     "metadata": {},
     "output_type": "execute_result"
    }
   ],
   "source": [
    "solver.Solve() == solver.OPTIMAL"
   ]
  },
  {
   "cell_type": "markdown",
   "id": "de255cb1",
   "metadata": {},
   "source": [
    "### 6. Printing results"
   ]
  },
  {
   "cell_type": "code",
   "execution_count": 12,
   "id": "2f22e4b3",
   "metadata": {},
   "outputs": [
    {
     "data": {
      "text/plain": [
       "3404.4585987261144"
      ]
     },
     "execution_count": 12,
     "metadata": {},
     "output_type": "execute_result"
    }
   ],
   "source": [
    "solver.Objective().Value()"
   ]
  },
  {
   "cell_type": "code",
   "execution_count": 16,
   "id": "4df20941",
   "metadata": {},
   "outputs": [
    {
     "data": {
      "text/html": [
       "<div>\n",
       "<style scoped>\n",
       "    .dataframe tbody tr th:only-of-type {\n",
       "        vertical-align: middle;\n",
       "    }\n",
       "\n",
       "    .dataframe tbody tr th {\n",
       "        vertical-align: top;\n",
       "    }\n",
       "\n",
       "    .dataframe thead th {\n",
       "        text-align: right;\n",
       "    }\n",
       "</style>\n",
       "<table border=\"1\" class=\"dataframe\">\n",
       "  <thead>\n",
       "    <tr style=\"text-align: right;\">\n",
       "      <th></th>\n",
       "      <th>produce_id</th>\n",
       "      <th>amount_to_produce</th>\n",
       "    </tr>\n",
       "  </thead>\n",
       "  <tbody>\n",
       "    <tr>\n",
       "      <th>0</th>\n",
       "      <td>Product: 1</td>\n",
       "      <td>7.961783</td>\n",
       "    </tr>\n",
       "    <tr>\n",
       "      <th>1</th>\n",
       "      <td>Product: 2</td>\n",
       "      <td>0.000000</td>\n",
       "    </tr>\n",
       "    <tr>\n",
       "      <th>2</th>\n",
       "      <td>Product: 3</td>\n",
       "      <td>0.000000</td>\n",
       "    </tr>\n",
       "    <tr>\n",
       "      <th>3</th>\n",
       "      <td>Product: 4</td>\n",
       "      <td>17.834395</td>\n",
       "    </tr>\n",
       "    <tr>\n",
       "      <th>4</th>\n",
       "      <td>Product: 5</td>\n",
       "      <td>0.000000</td>\n",
       "    </tr>\n",
       "    <tr>\n",
       "      <th>5</th>\n",
       "      <td>Product: 6</td>\n",
       "      <td>0.000000</td>\n",
       "    </tr>\n",
       "    <tr>\n",
       "      <th>6</th>\n",
       "      <td>Product: 7</td>\n",
       "      <td>9.554140</td>\n",
       "    </tr>\n",
       "  </tbody>\n",
       "</table>\n",
       "</div>"
      ],
      "text/plain": [
       "   produce_id  amount_to_produce\n",
       "0  Product: 1           7.961783\n",
       "1  Product: 2           0.000000\n",
       "2  Product: 3           0.000000\n",
       "3  Product: 4          17.834395\n",
       "4  Product: 5           0.000000\n",
       "5  Product: 6           0.000000\n",
       "6  Product: 7           9.554140"
      ]
     },
     "execution_count": 16,
     "metadata": {},
     "output_type": "execute_result"
    }
   ],
   "source": [
    "pd.DataFrame([(x, x.solution_value()) for x in x_vec], columns=['produce_id', 'amount_to_produce'])"
   ]
  },
  {
   "cell_type": "markdown",
   "id": "76d0445a",
   "metadata": {},
   "source": [
    "# Task 2 | Finding β\n",
    "\n",
    "![image](pictures/Task_2.png)"
   ]
  },
  {
   "cell_type": "code",
   "execution_count": 46,
   "id": "5b6b9293",
   "metadata": {},
   "outputs": [],
   "source": [
    "data = \"\"\"\n",
    "38\t137\n",
    "56\t201\n",
    "50\t152\n",
    "52\t107\n",
    "37\t150\n",
    "60\t173\n",
    "67\t194\n",
    "54\t166\n",
    "59\t154\n",
    "43\t137\n",
    "30\t38\n",
    "53\t193\n",
    "59\t154\n",
    "40\t175\n",
    "65\t247\n",
    "\"\"\"\n",
    "\n",
    "data = list(filter(lambda x: x if x != '' else None, data.split('\\n')))\n",
    "x = pd.Series(map(lambda x: float(x.split('\\t')[0]), data))\n",
    "y = pd.Series(map(lambda x: float(x.split('\\t')[1]), data))"
   ]
  },
  {
   "cell_type": "code",
   "execution_count": 47,
   "id": "63a9af06",
   "metadata": {},
   "outputs": [
    {
     "data": {
      "text/plain": [
       "const    6.869444\n",
       "0        2.981597\n",
       "dtype: float64"
      ]
     },
     "execution_count": 47,
     "metadata": {},
     "output_type": "execute_result"
    }
   ],
   "source": [
    "import statsmodels.api as sm\n",
    "x = sm.add_constant(x)\n",
    "model = sm.OLS(y,x)\n",
    "results = model.fit()\n",
    "\n",
    "\n",
    "results.params"
   ]
  },
  {
   "cell_type": "code",
   "execution_count": 39,
   "id": "a09e78b7",
   "metadata": {},
   "outputs": [],
   "source": [
    "duncan_prestige = sm.datasets.get_rdataset(\"Duncan\", \"carData\")"
   ]
  },
  {
   "cell_type": "code",
   "execution_count": 41,
   "id": "e7c3c416",
   "metadata": {},
   "outputs": [
    {
     "data": {
      "text/plain": [
       "accountant            62\n",
       "pilot                 72\n",
       "architect             75\n",
       "author                55\n",
       "chemist               64\n",
       "minister              21\n",
       "professor             64\n",
       "dentist               80\n",
       "reporter              67\n",
       "engineer              72\n",
       "undertaker            42\n",
       "lawyer                76\n",
       "physician             76\n",
       "welfare.worker        41\n",
       "teacher               48\n",
       "conductor             76\n",
       "contractor            53\n",
       "factory.owner         60\n",
       "store.manager         42\n",
       "banker                78\n",
       "bookkeeper            29\n",
       "mail.carrier          48\n",
       "insurance.agent       55\n",
       "store.clerk           29\n",
       "carpenter             21\n",
       "electrician           47\n",
       "RR.engineer           81\n",
       "machinist             36\n",
       "auto.repairman        22\n",
       "plumber               44\n",
       "gas.stn.attendant     15\n",
       "coal.miner             7\n",
       "streetcar.motorman    42\n",
       "taxi.driver            9\n",
       "truck.driver          21\n",
       "machine.operator      21\n",
       "barber                16\n",
       "bartender             16\n",
       "shoe.shiner            9\n",
       "cook                  14\n",
       "soda.clerk            12\n",
       "watchman              17\n",
       "janitor                7\n",
       "policeman             34\n",
       "waiter                 8\n",
       "Name: income, dtype: int64"
      ]
     },
     "execution_count": 41,
     "metadata": {},
     "output_type": "execute_result"
    }
   ],
   "source": [
    "duncan_prestige.data['income']"
   ]
  },
  {
   "cell_type": "code",
   "execution_count": null,
   "id": "0e5315f2",
   "metadata": {},
   "outputs": [],
   "source": []
  }
 ],
 "metadata": {
  "kernelspec": {
   "display_name": "Python 3",
   "language": "python",
   "name": "python3"
  },
  "language_info": {
   "codemirror_mode": {
    "name": "ipython",
    "version": 3
   },
   "file_extension": ".py",
   "mimetype": "text/x-python",
   "name": "python",
   "nbconvert_exporter": "python",
   "pygments_lexer": "ipython3",
   "version": "3.9.5"
  },
  "varInspector": {
   "cols": {
    "lenName": 16,
    "lenType": 16,
    "lenVar": 40
   },
   "kernels_config": {
    "python": {
     "delete_cmd_postfix": "",
     "delete_cmd_prefix": "del ",
     "library": "var_list.py",
     "varRefreshCmd": "print(var_dic_list())"
    },
    "r": {
     "delete_cmd_postfix": ") ",
     "delete_cmd_prefix": "rm(",
     "library": "var_list.r",
     "varRefreshCmd": "cat(var_dic_list()) "
    }
   },
   "types_to_exclude": [
    "module",
    "function",
    "builtin_function_or_method",
    "instance",
    "_Feature"
   ],
   "window_display": false
  }
 },
 "nbformat": 4,
 "nbformat_minor": 5
}
